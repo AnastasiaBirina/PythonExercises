{
 "cells": [
  {
   "cell_type": "markdown",
   "id": "324529ca-1b9c-4960-9d46-9aa3beebc91a",
   "metadata": {},
   "source": [
    "#### Local Scope"
   ]
  },
  {
   "cell_type": "markdown",
   "id": "02641b15-8a1e-4ed7-b2ae-bfd5fdb8737e",
   "metadata": {},
   "source": [
    "Whenever we decide to call a function, a new local scope will be generated. Each subsequent function call will generate a new local scope. Since the local scope is the deepest level of the four scopes, names in a local scope cannot be accessed or modified by any code called in outer scopes. As a rule of thumb, any names created in a local namespace are usually also locally scoped."
   ]
  },
  {
   "cell_type": "code",
   "execution_count": 4,
   "id": "c96412f2-8455-477e-9338-658231124783",
   "metadata": {},
   "outputs": [
    {
     "name": "stdout",
     "output_type": "stream",
     "text": [
      "5\n"
     ]
    },
    {
     "ename": "NameError",
     "evalue": "name 'x' is not defined",
     "output_type": "error",
     "traceback": [
      "\u001b[1;31m---------------------------------------------------------------------------\u001b[0m",
      "\u001b[1;31mNameError\u001b[0m                                 Traceback (most recent call last)",
      "\u001b[1;32m~\\AppData\\Local\\Temp\\ipykernel_3776\\1047005787.py\u001b[0m in \u001b[0;36m<module>\u001b[1;34m\u001b[0m\n\u001b[0;32m      4\u001b[0m \u001b[1;33m\u001b[0m\u001b[0m\n\u001b[0;32m      5\u001b[0m \u001b[0mmy_function\u001b[0m\u001b[1;33m(\u001b[0m\u001b[1;33m)\u001b[0m\u001b[1;33m\u001b[0m\u001b[1;33m\u001b[0m\u001b[0m\n\u001b[1;32m----> 6\u001b[1;33m \u001b[0mprint\u001b[0m\u001b[1;33m(\u001b[0m\u001b[0mx\u001b[0m\u001b[1;33m)\u001b[0m\u001b[1;33m\u001b[0m\u001b[1;33m\u001b[0m\u001b[0m\n\u001b[0m",
      "\u001b[1;31mNameError\u001b[0m: name 'x' is not defined"
     ]
    }
   ],
   "source": [
    "def my_function():\n",
    "    x = 5\n",
    "    print(x)\n",
    "\n",
    "my_function()\n",
    "print(x)"
   ]
  },
  {
   "cell_type": "markdown",
   "id": "d5057350-c05d-4c0f-99a8-352458f7aac9",
   "metadata": {},
   "source": [
    "#### Enclosing/Nonlocal Scope"
   ]
  },
  {
   "cell_type": "markdown",
   "id": "26191989-12a4-4371-aecb-3cd40f4c4e16",
   "metadata": {},
   "source": [
    "Similar to how nested functions form a unique namespace within their enclosing functions (the enclosing namespace), there also exist special rules that apply for accessing nested values. These rules make up the enclosing scope (also known as nonlocal scope). "
   ]
  },
  {
   "cell_type": "code",
   "execution_count": 3,
   "id": "00ee29ba-fd93-4712-ba54-e19cbd28b6a6",
   "metadata": {},
   "outputs": [
    {
     "name": "stdout",
     "output_type": "stream",
     "text": [
      "Number of paint gallons needed: \n",
      "1.5\n"
     ]
    }
   ],
   "source": [
    "def calc_paint_amount(width, height):\n",
    "\n",
    "    square_feet = width * height\n",
    "    \n",
    "    def calc_gallons():\n",
    "        return square_feet / 400\n",
    "\n",
    "    return calc_gallons()\n",
    "\n",
    "print('Number of paint gallons needed: ')\n",
    "print(str(calc_paint_amount(30,20)))"
   ]
  },
  {
   "cell_type": "markdown",
   "id": "d034f83c-3594-4420-841f-4bf3ec52f3c6",
   "metadata": {},
   "source": [
    "#### Modifying Scope Behavior: nonlocal Statement"
   ]
  },
  {
   "cell_type": "code",
   "execution_count": 15,
   "id": "5ab34bba-7b5b-42b5-a585-9e3938735530",
   "metadata": {},
   "outputs": [
    {
     "name": "stdout",
     "output_type": "stream",
     "text": [
      "200\n",
      "300\n"
     ]
    }
   ],
   "source": [
    "x = 300\n",
    "\n",
    "def myfunc():\n",
    "    x = 200\n",
    "    print(x)\n",
    "\n",
    "myfunc()\n",
    "\n",
    "print(x)"
   ]
  },
  {
   "cell_type": "markdown",
   "id": "5823ea5d-1446-49b3-bd9e-c12b8ef13c06",
   "metadata": {},
   "source": [
    "#### Global Scope"
   ]
  },
  {
   "cell_type": "markdown",
   "id": "da033a30-9f4c-495b-a9ed-94aa19d785ec",
   "metadata": {},
   "source": [
    "Names defined in the global namespace will automatically be globally scoped and can be accessed anywhere in our program. However, similar to local scope, values can only be accessed but not modified."
   ]
  },
  {
   "cell_type": "code",
   "execution_count": 13,
   "id": "1d9a7c06-132b-43f7-b5b9-99009be25418",
   "metadata": {},
   "outputs": [
    {
     "name": "stdout",
     "output_type": "stream",
     "text": [
      "x inside my_function: 15\n",
      "x outside my_function: 15\n"
     ]
    }
   ],
   "source": [
    "x = 10\n",
    "\n",
    "def my_function():\n",
    "    global x\n",
    "    x += 5\n",
    "    print(\"x inside my_function:\", x)\n",
    "\n",
    "my_function()\n",
    "print(\"x outside my_function:\", x)"
   ]
  },
  {
   "cell_type": "markdown",
   "id": "53c0973d-86d7-4385-9cc7-36a9d6a78839",
   "metadata": {},
   "source": [
    "#### Modifying Scope Behavior: global Statement"
   ]
  },
  {
   "cell_type": "code",
   "execution_count": 16,
   "id": "9b2c50e9-59e0-4339-948c-2d3a8568478a",
   "metadata": {},
   "outputs": [
    {
     "name": "stdout",
     "output_type": "stream",
     "text": [
      "Item added to cart. Total: 10\n",
      "Item added to cart. Total: 30\n",
      "Item removed from cart. Total: 20\n"
     ]
    }
   ],
   "source": [
    "total = 0\n",
    "\n",
    "def add_to_cart(item_price):\n",
    "    global total\n",
    "    total += item_price\n",
    "    print(f\"Item added to cart. Total: {total}\")\n",
    "\n",
    "def remove_from_cart(item_price):\n",
    "    global total\n",
    "    total -= item_price\n",
    "    print(f\"Item removed from cart. Total: {total}\")\n",
    "\n",
    "add_to_cart(10) \n",
    "add_to_cart(20) \n",
    "remove_from_cart(10) "
   ]
  },
  {
   "cell_type": "markdown",
   "id": "0f722067-8e71-4818-84f7-7f53ced2f702",
   "metadata": {},
   "source": [
    "#### Scope Resolution: The LEGB Rule"
   ]
  },
  {
   "cell_type": "code",
   "execution_count": 18,
   "id": "abe3331b-f4c9-49dc-8008-049c2281e3fd",
   "metadata": {},
   "outputs": [
    {
     "name": "stdout",
     "output_type": "stream",
     "text": [
      "The original color was: green\n",
      "The new color is: blue\n"
     ]
    }
   ],
   "source": [
    "color = 'green'\n",
    "\n",
    "def change_color(new_color):\n",
    " \n",
    "    to_update = new_color\n",
    "    global color\n",
    "    \n",
    "    def disp_color():\n",
    "        print('The original color was: ' + color)\n",
    "    disp_color()\n",
    "    color = to_update\n",
    "    print('The new color is: ' + color)\n",
    "\n",
    "change_color('blue')"
   ]
  }
 ],
 "metadata": {
  "kernelspec": {
   "display_name": "Python 3 (ipykernel)",
   "language": "python",
   "name": "python3"
  },
  "language_info": {
   "codemirror_mode": {
    "name": "ipython",
    "version": 3
   },
   "file_extension": ".py",
   "mimetype": "text/x-python",
   "name": "python",
   "nbconvert_exporter": "python",
   "pygments_lexer": "ipython3",
   "version": "3.9.13"
  }
 },
 "nbformat": 4,
 "nbformat_minor": 5
}
