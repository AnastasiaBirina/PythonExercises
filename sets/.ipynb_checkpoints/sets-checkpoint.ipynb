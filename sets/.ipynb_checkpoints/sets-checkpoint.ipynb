{
 "cells": [
  {
   "cell_type": "markdown",
   "id": "33eb349a-2e6f-4238-a435-018f6478cc12",
   "metadata": {},
   "source": [
    "#### Creating a Set"
   ]
  },
  {
   "cell_type": "code",
   "execution_count": 3,
   "id": "04b7c9f8-d716-4d89-a58c-a61ed31ca1d1",
   "metadata": {},
   "outputs": [],
   "source": [
    "genre_results = ['rap', 'classical', 'rock', 'rock', 'country', 'rap', 'rock', 'latin', 'country', \n",
    "                 'k-pop', 'pop', 'rap', 'rock', 'k-pop',  'rap', 'k-pop', 'rock', 'rap', 'latin', 'pop', \n",
    "                 'pop', 'classical', 'pop', 'country', 'rock', 'classical', 'country', 'pop', 'rap', 'latin']\n",
    "survey_genres = set(genre_results)\n",
    "survey_abbreviated = {genre[0:3] for genre in survey_genres}"
   ]
  },
  {
   "cell_type": "markdown",
   "id": "48560439-6a8d-46a9-b317-19d20524c263",
   "metadata": {},
   "source": [
    "#### Creating a Frozenset"
   ]
  },
  {
   "cell_type": "code",
   "execution_count": 4,
   "id": "9e5644ac-c133-4ce4-afb2-a0a35e48872f",
   "metadata": {},
   "outputs": [
    {
     "name": "stdout",
     "output_type": "stream",
     "text": [
      "frozenset({'pop', 'rap', 'rock'})\n"
     ]
    }
   ],
   "source": [
    "top_genres = ['rap', 'rock', 'pop']\n",
    "frozen_top_genres = frozenset(top_genres)\n",
    "print(frozen_top_genres) "
   ]
  },
  {
   "cell_type": "markdown",
   "id": "8f1adb47-79ef-412e-b19d-e3338ef2dd1f",
   "metadata": {},
   "source": [
    "#### Adding to a Set"
   ]
  },
  {
   "cell_type": "code",
   "execution_count": 6,
   "id": "ce0be8aa-3cfa-46ac-9d6f-0f73585dcb9d",
   "metadata": {},
   "outputs": [
    {
     "name": "stdout",
     "output_type": "stream",
     "text": [
      "{'happy', 'warm', 'pop', 'exciting', 'electric'}\n"
     ]
    }
   ],
   "source": [
    "song_data = {'Retro Words': ['pop', 'warm', 'happy', 'electric']}\n",
    "\n",
    "user_tag_1 = 'warm'\n",
    "user_tag_2 = 'exciting'\n",
    "user_tag_3 = 'electric'\n",
    "\n",
    "tag_set = set(song_data['Retro Words'])\n",
    "tag_set.update([user_tag_1, user_tag_2, user_tag_3])\n",
    "print(tag_set)\n",
    "song_data['Retro Words'] = tag_set"
   ]
  },
  {
   "cell_type": "markdown",
   "id": "cbd38402-caa2-48c1-8f1f-e655a11fa226",
   "metadata": {},
   "source": [
    "#### Removing From a Set"
   ]
  },
  {
   "cell_type": "code",
   "execution_count": 7,
   "id": "0c6e711b-6a4d-4800-845b-74b5037a9f1b",
   "metadata": {},
   "outputs": [
    {
     "name": "stdout",
     "output_type": "stream",
     "text": [
      "{'Retro Words': {'happy', 'warm', 'pop', 'electric'}}\n"
     ]
    }
   ],
   "source": [
    "song_data_users = {'Retro Words': ['pop', 'onion', 'warm', 'helloworld', 'happy', 'spam', 'electric']}\n",
    "\n",
    "tag_set = set(song_data_users['Retro Words'])\n",
    "tag_set.remove('onion')\n",
    "tag_set.remove('helloworld')\n",
    "tag_set.remove('spam')\n",
    "\n",
    "song_data_users['Retro Words'] = tag_set\n",
    "print(song_data_users)"
   ]
  },
  {
   "cell_type": "markdown",
   "id": "22a523b2-0b6c-4261-96d7-0c793906e405",
   "metadata": {},
   "source": [
    "#### Finding Elements in a Set"
   ]
  },
  {
   "cell_type": "code",
   "execution_count": 9,
   "id": "0e0e539a-7807-4eeb-8e1d-0d2d3b8cc6a1",
   "metadata": {},
   "outputs": [],
   "source": [
    "allowed_tags = ['pop', 'hip-hop', 'rap', 'dance', 'electronic', 'latin', 'indie', 'alternative rock', \n",
    "                'classical', 'k-pop', 'country', 'rock', 'metal', 'jazz', 'exciting', 'sad', 'happy', \n",
    "                'upbeat', 'party', 'synth', 'rhythmic', 'emotional', 'relationship', 'warm', 'guitar', 'fiddle', 'romance', 'chill', 'swing']\n",
    "\n",
    "song_data_users = {'Retro Words': ['pop', 'explosion', 'hammer', 'bomb', 'warm', 'due', 'writer', \n",
    "                                   'happy', 'horrible', 'electric', 'mushroom', 'shed']}\n",
    "\n",
    "tag_set = set(song_data_users['Retro Words'])\n",
    "\n",
    "bad_tags = {tag for tag in tag_set if tag not in allowed_tags}\n",
    "\n",
    "\n",
    "{tag_set.remove(tag) for tag in bad_tags}\n",
    "song_data_users['Retro Words'] = tag_set"
   ]
  },
  {
   "cell_type": "markdown",
   "id": "410a7445-48f6-45ec-9539-13f31be8ff13",
   "metadata": {},
   "source": [
    "#### Set Union"
   ]
  },
  {
   "cell_type": "code",
   "execution_count": 11,
   "id": "262d7be1-fdfc-4493-bd74-e58bcf08848d",
   "metadata": {},
   "outputs": [],
   "source": [
    "song_data = {'Retro Words': ['pop', 'warm', 'happy', 'electronic'],\n",
    "             'Wait For Limit': ['rap', 'upbeat', 'romance'],\n",
    "             'Stomping Cue': ['country', 'fiddle', 'party'],\n",
    "             'Lowkey Space': ['electronic', 'dance', 'synth']}\n",
    "\n",
    "user_tag_data = {'Lowkey Space': ['party', 'synth', 'fast', 'upbeat'],\n",
    "                 'Retro Words': ['happy', 'electronic', 'fun', 'exciting'],\n",
    "                 'Wait For Limit': ['romance', 'chill', 'rap', 'rhythmic'], \n",
    "                 'Stomping Cue': ['country', 'swing', 'party', 'instrumental']}\n",
    "\n",
    "new_song_data = {}\n",
    "for key, value in song_data.items():\n",
    "    set_user = set(user_tag_data[key])\n",
    "    set_song = set(song_data[key]) | set_user\n",
    "    new_song_data[key] = set_song\n",
    "  "
   ]
  },
  {
   "cell_type": "markdown",
   "id": "d5ff1c00-8bcc-4f85-9b77-59626beb1f67",
   "metadata": {},
   "source": [
    "#### Set Intersection"
   ]
  },
  {
   "cell_type": "code",
   "execution_count": 13,
   "id": "20f22344-deb5-4beb-abfd-1ea5c3262f86",
   "metadata": {},
   "outputs": [],
   "source": [
    "song_data = {'Retro Words': ['pop', 'warm', 'happy', 'electronic', 'synth'],\n",
    "             'Wait For Limit': ['rap', 'upbeat', 'romance'],\n",
    "             'Stomping Cue': ['country', 'fiddle', 'party'],\n",
    "             'Lowkey Space': ['electronic', 'dance', 'synth', 'upbeat'],\n",
    "             'Back To Art': ['pop', 'sad', 'emotional', 'relationship'],\n",
    "             'Blinding Era': ['rap', 'intense', 'moving', 'fast'],\n",
    "             'Down To Green Hills': ['country', 'relaxing', 'vocal', 'emotional'],\n",
    "             'Double Lights': ['electronic', 'chill', 'relaxing', 'piano', 'synth']}\n",
    "\n",
    "user_recent_songs = {'Retro Words': ['pop', 'warm', 'happy', 'electronic', 'synth'],\n",
    "                     'Lowkey Space': ['electronic', 'dance', 'synth', 'upbeat']}\n",
    "\n",
    "tags_int = set(user_recent_songs['Retro Words']) & set(user_recent_songs['Lowkey Space']) \n",
    "recommended_songs = {}\n",
    "for key, item in song_data.items():\n",
    "    if tags_int & set(song_data[key]) and key not in user_recent_songs.keys():\n",
    "        recommended_songs[key] = item"
   ]
  },
  {
   "cell_type": "markdown",
   "id": "b14b3e01-48a8-4bfd-87b4-286367c43fc8",
   "metadata": {},
   "source": [
    "#### Set Difference"
   ]
  },
  {
   "cell_type": "code",
   "execution_count": 15,
   "id": "be972b61-97c8-4d1f-ab4c-2d0335cdb51c",
   "metadata": {},
   "outputs": [
    {
     "name": "stdout",
     "output_type": "stream",
     "text": [
      "{'emotional', 'sad', 'relationship'}\n",
      "\n",
      "{'Wait For Limit': ['rap', 'upbeat', 'romance', 'relationship'], 'Down To Green Hills': ['country', 'relaxing', 'vocal', 'emotional']}\n"
     ]
    }
   ],
   "source": [
    "song_data = {'Retro Words': ['pop', 'warm', 'happy', 'electronic', 'synth'],\n",
    "             'Wait For Limit': ['rap', 'upbeat', 'romance', 'relationship'],\n",
    "             'Stomping Cue': ['country', 'fiddle', 'party'],\n",
    "             'Lowkey Space': ['electronic', 'dance', 'synth', 'upbeat'],\n",
    "             'Back To Art': ['pop', 'sad', 'emotional', 'relationship'],\n",
    "             'Blinding Era': ['rap', 'intense', 'moving', 'fast'],\n",
    "             'Down To Green Hills': ['country', 'relaxing', 'vocal', 'emotional'],\n",
    "             'Double Lights': ['electronic', 'chill', 'relaxing', 'piano', 'synth']}\n",
    "\n",
    "user_liked_song = {'Back To Art': ['pop', 'sad', 'emotional', 'relationship']}\n",
    "user_disliked_song = {'Retro Words': ['pop', 'warm', 'happy', 'electronic', 'synth']}\n",
    "\n",
    "# Write your code below!\n",
    "tag_diff = set(user_liked_song['Back To Art']) - set(user_disliked_song['Retro Words'])\n",
    "print(tag_diff)\n",
    "\n",
    "\n",
    "# recommended_songs = {song: tags for song, tags in song_data.items() if set(tags) & tag_diff and song != 'Back To Art' and song != 'Retro Words'}\n",
    "\n",
    "\n",
    "\n",
    "recommended_songs = {}\n",
    "for key, item in song_data.items():\n",
    "    if set(item) & tag_diff and key not in user_liked_song and key not in user_disliked_song:\n",
    "        recommended_songs[key] = item\n",
    "print(\"\")\n",
    "print(recommended_songs)"
   ]
  },
  {
   "cell_type": "markdown",
   "id": "daa81525-9d58-4233-b304-a623db474a5b",
   "metadata": {},
   "source": [
    "#### Symmetric Difference"
   ]
  },
  {
   "cell_type": "code",
   "execution_count": 16,
   "id": "69e8eaee-df63-4b49-a12a-eae80e336ce5",
   "metadata": {},
   "outputs": [],
   "source": [
    "user_song_history = {'Retro Words': ['pop', 'warm', 'happy', 'electronic', 'synth'],\n",
    "                     'Stomping Cue': ['country', 'fiddle', 'party'],\n",
    "                     'Back To Art': ['pop', 'sad', 'emotional', 'relationship'],\n",
    "                     'Double Lights': ['electronic', 'chill', 'relaxing', 'piano', 'synth']}\n",
    "\n",
    "friend_song_history = {'Lowkey Space': ['electronic', 'dance', 'synth', 'upbeat'],\n",
    "                     'Blinding Era': ['rap', 'intense', 'moving', 'fast'],\n",
    "                     'Wait For Limit': ['rap', 'upbeat', 'romance', 'relationship'],\n",
    "                     'Double Lights': ['electronic', 'chill', 'relaxing', 'piano', 'synth']}\n",
    "\n",
    "# Write your code below!\n",
    "user_tags = set()\n",
    "friend_tags = set()\n",
    "# user_tags.update(user_song_history['Retro Words'])\n",
    "{user_tags.update(tag) for song, tag in user_song_history.items()}\n",
    "{friend_tags.update(tag) for song, tag in friend_song_history.items()}\n",
    "\n",
    "unique_tags = user_tags ^ friend_tags"
   ]
  },
  {
   "cell_type": "code",
   "execution_count": null,
   "id": "f80a8f15-3f00-43b4-a1cb-eb9eed50f814",
   "metadata": {},
   "outputs": [],
   "source": []
  }
 ],
 "metadata": {
  "kernelspec": {
   "display_name": "Python 3 (ipykernel)",
   "language": "python",
   "name": "python3"
  },
  "language_info": {
   "codemirror_mode": {
    "name": "ipython",
    "version": 3
   },
   "file_extension": ".py",
   "mimetype": "text/x-python",
   "name": "python",
   "nbconvert_exporter": "python",
   "pygments_lexer": "ipython3",
   "version": "3.9.13"
  }
 },
 "nbformat": 4,
 "nbformat_minor": 5
}
