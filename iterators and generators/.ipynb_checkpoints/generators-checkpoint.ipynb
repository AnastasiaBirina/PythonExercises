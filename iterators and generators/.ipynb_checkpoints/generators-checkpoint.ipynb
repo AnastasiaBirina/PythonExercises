{
 "cells": [
  {
   "cell_type": "markdown",
   "id": "d6f67a47-6a60-4599-aa20-7d3e01c60a24",
   "metadata": {},
   "source": [
    "In Python, a generator allows for the creation of iterators without having to implement __iter__() and __next__() methods. Generators improve code readability, save memory by allowing for iterative access of elements, and allow for the traversal of infinite streams of data.\n",
    "\n",
    "There are two types of generators in Python:\n",
    "\n",
    "- Generator functions\n",
    "\n",
    "- Generator Expressions\n",
    "\n",
    "Both of these return a generator object that can be looped over similar to a list, but unlike a list, the contents of the generator object are not stored in memory, allowing for complex and even infinite iteration of data."
   ]
  },
  {
   "cell_type": "markdown",
   "id": "ba4622d7-1914-41af-9e82-d1776bedfa97",
   "metadata": {},
   "source": [
    "#### yield vs return"
   ]
  },
  {
   "cell_type": "markdown",
   "id": "348dcfe4-edee-47a5-a1c8-a838f36d290c",
   "metadata": {},
   "source": [
    "Generator functions are similar to regular functions except that they must return an iterator. But instead of using a return statement, generator functions use an expression called yield.\n",
    "\n",
    "So how does yield differ from a return statement? Well, any code that is written after a yield expression will execute on the next iteration of the iterator. Code written after a return statement will not execute.\n",
    "Another key difference between yield and return is that the yield expression will suspend the execution of the function and preserve any local variables that exist within the function. The return statement will terminate the function immediately and return the result(s) to the caller.\n",
    "\n",
    "Like all objects, the iterator object returned by a generator function can be stored in a variable to be used later. It can then be iterated through as needed."
   ]
  },
  {
   "cell_type": "code",
   "execution_count": 1,
   "id": "04379105-8608-4186-bacd-68cfe703d03e",
   "metadata": {},
   "outputs": [
    {
     "name": "stdout",
     "output_type": "stream",
     "text": [
      "Freshman\n",
      "Sophomore\n",
      "Junior\n",
      "Senior\n"
     ]
    }
   ],
   "source": [
    "def class_standing_generator():\n",
    "    yield 'Freshman'\n",
    "    yield 'Sophomore'\n",
    "    yield 'Junior'\n",
    "    yield 'Senior'\n",
    "class_standings = class_standing_generator()\n",
    "\n",
    "for i in class_standings:\n",
    "    print(i)"
   ]
  },
  {
   "cell_type": "markdown",
   "id": "e847b012-aa3e-40cc-988d-88d9abdd6316",
   "metadata": {},
   "source": [
    "#### next() and StopIteration"
   ]
  },
  {
   "cell_type": "markdown",
   "id": "0c329294-90fa-4863-8037-bc76159e0d4b",
   "metadata": {},
   "source": [
    "Generator functions return an iterator object that contains traversable values. To retrieve the next value from a generator object, we can use the Python built-in function next() which will cause the generator function to resume its execution until the next yield expression is found. After the next yield expression is found, the function will pause execution again.\n",
    "\n",
    "If no additional yield expressions are found in a generator function, that means the code has finished and a StopIteration is raised.\n",
    "\n",
    "Generator functions are not limited to just single yield statements. They can also include loops where the yield occurs."
   ]
  },
  {
   "cell_type": "code",
   "execution_count": 3,
   "id": "85262a3c-1f50-4db3-9797-ed874fcd640e",
   "metadata": {},
   "outputs": [
    {
     "name": "stdout",
     "output_type": "stream",
     "text": [
      "500\n",
      "500\n"
     ]
    },
    {
     "ename": "StopIteration",
     "evalue": "",
     "output_type": "error",
     "traceback": [
      "\u001b[1;31m---------------------------------------------------------------------------\u001b[0m",
      "\u001b[1;31mStopIteration\u001b[0m                             Traceback (most recent call last)",
      "\u001b[1;32m~\\AppData\\Local\\Temp\\ipykernel_12328\\3358977509.py\u001b[0m in \u001b[0;36m<module>\u001b[1;34m\u001b[0m\n\u001b[0;32m      9\u001b[0m \u001b[0mprint\u001b[0m\u001b[1;33m(\u001b[0m\u001b[0mnext\u001b[0m\u001b[1;33m(\u001b[0m\u001b[0mstanding_values\u001b[0m\u001b[1;33m)\u001b[0m\u001b[1;33m)\u001b[0m\u001b[1;33m\u001b[0m\u001b[1;33m\u001b[0m\u001b[0m\n\u001b[0;32m     10\u001b[0m \u001b[0mprint\u001b[0m\u001b[1;33m(\u001b[0m\u001b[0mnext\u001b[0m\u001b[1;33m(\u001b[0m\u001b[0mstanding_values\u001b[0m\u001b[1;33m)\u001b[0m\u001b[1;33m)\u001b[0m\u001b[1;33m\u001b[0m\u001b[1;33m\u001b[0m\u001b[0m\n\u001b[1;32m---> 11\u001b[1;33m \u001b[0mprint\u001b[0m\u001b[1;33m(\u001b[0m\u001b[0mnext\u001b[0m\u001b[1;33m(\u001b[0m\u001b[0mstanding_values\u001b[0m\u001b[1;33m)\u001b[0m\u001b[1;33m)\u001b[0m\u001b[1;33m\u001b[0m\u001b[1;33m\u001b[0m\u001b[0m\n\u001b[0m",
      "\u001b[1;31mStopIteration\u001b[0m: "
     ]
    }
   ],
   "source": [
    "def student_standing_generator():\n",
    "    student_standings = ['Freshman','Senior', 'Junior', 'Freshman']\n",
    "    for st in student_standings:\n",
    "        if st == 'Freshman':\n",
    "            yield 500\n",
    "\n",
    "standing_values = student_standing_generator()\n",
    "\n",
    "print(next(standing_values))\n",
    "print(next(standing_values))\n",
    "print(next(standing_values))"
   ]
  },
  {
   "cell_type": "markdown",
   "id": "7e41f10b-d779-40b6-a8da-bfefa9690098",
   "metadata": {},
   "source": [
    "#### Generator Expressions"
   ]
  },
  {
   "cell_type": "code",
   "execution_count": 6,
   "id": "8c59d53d-8cf7-4a77-8b23-3df33541d062",
   "metadata": {},
   "outputs": [
    {
     "name": "stdout",
     "output_type": "stream",
     "text": [
      "Computer Science 1\n",
      "Computer Science 2\n",
      "Computer Science 3\n",
      "Computer Science 4\n"
     ]
    }
   ],
   "source": [
    "def cs_generator():\n",
    "    for i in range(1,5):\n",
    "        yield \"Computer Science \" + str(i)\n",
    "\n",
    "cs_courses = cs_generator()\n",
    "\n",
    "for i in cs_courses:\n",
    "    print(i)"
   ]
  },
  {
   "cell_type": "code",
   "execution_count": 5,
   "id": "d077e8db-ec91-4c98-9980-44cb669f9398",
   "metadata": {},
   "outputs": [
    {
     "name": "stdout",
     "output_type": "stream",
     "text": [
      "Computer Science 1\n",
      "Computer Science 2\n",
      "Computer Science 3\n",
      "Computer Science 4\n"
     ]
    }
   ],
   "source": [
    "cs_generator_exp = (\"Computer Science \" + str(i) for i in range(1, 5))\n",
    "for i in cs_generator_exp:\n",
    "    print(i)"
   ]
  },
  {
   "cell_type": "code",
   "execution_count": 7,
   "id": "2715a27f-c8a2-4853-b402-1570bca5ff24",
   "metadata": {},
   "outputs": [
    {
     "name": "stdout",
     "output_type": "stream",
     "text": [
      "[0, 1, 4, 9]\n"
     ]
    }
   ],
   "source": [
    "a_list = [i*i for i in range(4)]\n",
    "print(a_list)"
   ]
  },
  {
   "cell_type": "markdown",
   "id": "a04beaf9-f0e8-4137-967c-332231e013ed",
   "metadata": {},
   "source": [
    "#### Generator Methods: send()"
   ]
  },
  {
   "cell_type": "markdown",
   "id": "aa0ebb28-fcaf-4cdf-a368-9ce328a33a98",
   "metadata": {},
   "source": [
    "The .send() method allows us to send a value to a generator using the yield expression. If you assign yield to a variable the argument passed to the .send() method will be assigned to that variable. Calling .send() will also cause the generator to perform an iteration."
   ]
  },
  {
   "cell_type": "code",
   "execution_count": 14,
   "id": "b7fc331c-d84f-483b-86b7-a6fe4c1d28ca",
   "metadata": {},
   "outputs": [
    {
     "name": "stdout",
     "output_type": "stream",
     "text": [
      "0\n",
      "1\n",
      "7\n",
      "8\n",
      "3\n",
      "4\n",
      "5\n",
      "10\n",
      "11\n",
      "12\n"
     ]
    }
   ],
   "source": [
    "def generator():\n",
    "    count = 0\n",
    "    while True:\n",
    "        n = yield count\n",
    "        if n is not None:\n",
    "            count = n\n",
    "        count += 1\n",
    "\n",
    "my_generator = generator()\n",
    "\n",
    "print(next(my_generator)) \n",
    "print(next(my_generator)) \n",
    "print(my_generator.send(6)) \n",
    "print(next(my_generator)) \n",
    "print(my_generator.send(2)) \n",
    "print(next(my_generator)) \n",
    "print(next(my_generator)) \n",
    "print(my_generator.send(9)) \n",
    "print(next(my_generator)) \n",
    "print(next(my_generator)) "
   ]
  },
  {
   "cell_type": "code",
   "execution_count": 2,
   "id": "6f529f1f-e441-439b-b9ca-d2cd55f94f2e",
   "metadata": {},
   "outputs": [
    {
     "name": "stdout",
     "output_type": "stream",
     "text": [
      "45\n",
      "46\n",
      "47\n",
      "48\n",
      "49\n",
      "50\n"
     ]
    }
   ],
   "source": [
    "MAX_STUDENTS = 50\n",
    "\n",
    "def get_student_ids():\n",
    "    student_id = 1\n",
    "    while student_id <= MAX_STUDENTS:\n",
    "      \n",
    "        n = yield student_id\n",
    "        if n is not None:\n",
    "            student_id = n \n",
    "            continue\n",
    "        student_id += 1\n",
    "\n",
    "student_id_generator = get_student_ids()\n",
    "for i in student_id_generator:\n",
    "    if i == 1:\n",
    "        i = student_id_generator.send(45)\n",
    "    print(i)"
   ]
  },
  {
   "cell_type": "markdown",
   "id": "a1aee4c5-1d9d-469b-ba98-050e61c04a38",
   "metadata": {},
   "source": [
    "#### Generator Methods: throw()"
   ]
  },
  {
   "cell_type": "markdown",
   "id": "97d4819f-189c-4c80-bb4b-5b2b701a1257",
   "metadata": {},
   "source": [
    "The generator method throw() provides the ability to throw an exception inside the generator from the caller point. This can be useful if we need to end the generator once it reaches a certain value or meets a particular condition."
   ]
  },
  {
   "cell_type": "code",
   "execution_count": 6,
   "id": "12b09d35-9699-42d1-a839-97981143101a",
   "metadata": {},
   "outputs": [
    {
     "name": "stdout",
     "output_type": "stream",
     "text": [
      "1\n",
      "2\n",
      "3\n",
      "4\n",
      "5\n",
      "6\n",
      "7\n",
      "8\n",
      "9\n",
      "10\n"
     ]
    },
    {
     "ename": "ValueError",
     "evalue": "Invalid student ID",
     "output_type": "error",
     "traceback": [
      "\u001b[1;31m---------------------------------------------------------------------------\u001b[0m",
      "\u001b[1;31mValueError\u001b[0m                                Traceback (most recent call last)",
      "\u001b[1;32m~\\AppData\\Local\\Temp\\ipykernel_12180\\1178586247.py\u001b[0m in \u001b[0;36m<module>\u001b[1;34m\u001b[0m\n\u001b[0;32m      6\u001b[0m \u001b[1;32mfor\u001b[0m \u001b[0mstudent_id\u001b[0m \u001b[1;32min\u001b[0m \u001b[0mstudent_generator\u001b[0m\u001b[1;33m:\u001b[0m\u001b[1;33m\u001b[0m\u001b[1;33m\u001b[0m\u001b[0m\n\u001b[0;32m      7\u001b[0m     \u001b[1;32mif\u001b[0m \u001b[0mstudent_id\u001b[0m \u001b[1;33m>\u001b[0m \u001b[1;36m10\u001b[0m\u001b[1;33m:\u001b[0m\u001b[1;33m\u001b[0m\u001b[1;33m\u001b[0m\u001b[0m\n\u001b[1;32m----> 8\u001b[1;33m         \u001b[0mstudent_generator\u001b[0m\u001b[1;33m.\u001b[0m\u001b[0mthrow\u001b[0m\u001b[1;33m(\u001b[0m\u001b[0mValueError\u001b[0m\u001b[1;33m,\u001b[0m \u001b[1;34m\"Invalid student ID\"\u001b[0m\u001b[1;33m)\u001b[0m\u001b[1;33m\u001b[0m\u001b[1;33m\u001b[0m\u001b[0m\n\u001b[0m\u001b[0;32m      9\u001b[0m \u001b[1;33m\u001b[0m\u001b[0m\n\u001b[0;32m     10\u001b[0m     \u001b[0mprint\u001b[0m\u001b[1;33m(\u001b[0m\u001b[0mstudent_id\u001b[0m\u001b[1;33m)\u001b[0m\u001b[1;33m\u001b[0m\u001b[1;33m\u001b[0m\u001b[0m\n",
      "\u001b[1;32m~\\AppData\\Local\\Temp\\ipykernel_12180\\1178586247.py\u001b[0m in \u001b[0;36mstudent_counter\u001b[1;34m()\u001b[0m\n\u001b[0;32m      1\u001b[0m \u001b[1;32mdef\u001b[0m \u001b[0mstudent_counter\u001b[0m\u001b[1;33m(\u001b[0m\u001b[1;33m)\u001b[0m\u001b[1;33m:\u001b[0m\u001b[1;33m\u001b[0m\u001b[1;33m\u001b[0m\u001b[0m\n\u001b[0;32m      2\u001b[0m     \u001b[1;32mfor\u001b[0m \u001b[0mi\u001b[0m \u001b[1;32min\u001b[0m \u001b[0mrange\u001b[0m\u001b[1;33m(\u001b[0m\u001b[1;36m1\u001b[0m\u001b[1;33m,\u001b[0m\u001b[1;36m100\u001b[0m\u001b[1;33m)\u001b[0m\u001b[1;33m:\u001b[0m\u001b[1;33m\u001b[0m\u001b[1;33m\u001b[0m\u001b[0m\n\u001b[1;32m----> 3\u001b[1;33m         \u001b[1;32myield\u001b[0m \u001b[0mi\u001b[0m\u001b[1;33m\u001b[0m\u001b[1;33m\u001b[0m\u001b[0m\n\u001b[0m\u001b[0;32m      4\u001b[0m \u001b[1;33m\u001b[0m\u001b[0m\n\u001b[0;32m      5\u001b[0m \u001b[0mstudent_generator\u001b[0m \u001b[1;33m=\u001b[0m \u001b[0mstudent_counter\u001b[0m\u001b[1;33m(\u001b[0m\u001b[1;33m)\u001b[0m\u001b[1;33m\u001b[0m\u001b[1;33m\u001b[0m\u001b[0m\n",
      "\u001b[1;31mValueError\u001b[0m: Invalid student ID"
     ]
    }
   ],
   "source": [
    "def student_counter():\n",
    "    for i in range(1,100):\n",
    "        yield i\n",
    "\n",
    "student_generator = student_counter()\n",
    "for student_id in student_generator:\n",
    "    if student_id > 10:\n",
    "        student_generator.throw(ValueError, \"Invalid student ID\")\n",
    "  \n",
    "    print(student_id)"
   ]
  },
  {
   "cell_type": "markdown",
   "id": "50459bf2-e016-45ac-9af9-eae5b3f67bc5",
   "metadata": {},
   "source": [
    "#### Generator Methods: close()"
   ]
  },
  {
   "cell_type": "markdown",
   "id": "24b98839-71a6-4d93-af2d-15ce245da494",
   "metadata": {},
   "source": [
    "The generator method .close() is used to terminate a generator early. Once the .close() method is called the generator is finished just like the end of a for loop. Any further iteration attempts will raise a StopIteration exception."
   ]
  },
  {
   "cell_type": "code",
   "execution_count": 7,
   "id": "f03029f1-d350-413b-841c-ed00088f6b55",
   "metadata": {},
   "outputs": [
    {
     "name": "stdout",
     "output_type": "stream",
     "text": [
      "0\n",
      "1\n",
      "Early exit, BYE!\n"
     ]
    }
   ],
   "source": [
    "def generator():\n",
    "    i = 0\n",
    "    while True:\n",
    "        try:\n",
    "            yield i\n",
    "        except GeneratorExit:\n",
    "            print(\"Early exit, BYE!\")\n",
    "            break\n",
    "        i += 1\n",
    "\n",
    "my_generator = generator()\n",
    "for item in my_generator:\n",
    "    print(item)\n",
    "    if item == 1:\n",
    "        my_generator.close()"
   ]
  },
  {
   "cell_type": "markdown",
   "id": "c30b1daa-774d-4abc-8d46-8a951c6eb89f",
   "metadata": {},
   "source": [
    "#### Connecting Generators"
   ]
  },
  {
   "cell_type": "markdown",
   "id": "1df7b64d-eb63-40e4-91cc-43afc891821e",
   "metadata": {},
   "source": [
    "There are some cases where it is useful to connect multiple generators into one. This allows us to delegate the operations of one generator to another sub-generator. Connecting generators is similar to using the itertools chain() function to combine iterators into a single iterator."
   ]
  },
  {
   "cell_type": "code",
   "execution_count": 9,
   "id": "040b8568-82a8-4098-9fad-2e16bec41959",
   "metadata": {},
   "outputs": [
    {
     "name": "stdout",
     "output_type": "stream",
     "text": [
      "1\n",
      "2\n",
      "3\n",
      "4\n",
      "5\n",
      "10\n",
      "11\n",
      "12\n",
      "13\n",
      "14\n",
      "15\n",
      "25\n",
      "26\n",
      "27\n",
      "28\n",
      "29\n",
      "30\n"
     ]
    }
   ],
   "source": [
    "def science_students(x):\n",
    "    for i in range(1,x+1):\n",
    "        yield i\n",
    "\n",
    "def non_science_students(x,y):\n",
    "    for i in range(x,y+1):\n",
    "        yield i\n",
    "        \n",
    "def combined_students():\n",
    "    yield from science_students(5)\n",
    "    yield from non_science_students(10,15)\n",
    "    yield from non_science_students(25,30)\n",
    "\n",
    "student_generator = combined_students()\n",
    "\n",
    "for i in student_generator:\n",
    "    print(i)"
   ]
  },
  {
   "cell_type": "markdown",
   "id": "b9a60063-c608-455f-97cc-578a4a2a3335",
   "metadata": {},
   "source": [
    "#### Generator Pipelines"
   ]
  },
  {
   "cell_type": "markdown",
   "id": "982487c9-052c-4b6d-bca6-c47bf5763533",
   "metadata": {},
   "source": [
    "Generator pipelines allow us to use multiple generators to perform a series of operations all within one expression. We can break down complex operations into smaller, more manageable parts where they can then be pipelined together to achieve the desired output.\n",
    "\n",
    "To pipeline generators, the output of one generator function can be the input of another generator function. That resulting generator can then be used as input for another generator function, and so on.\n",
    "\n",
    "Pipeline generators are also often referred to as nested generators. "
   ]
  },
  {
   "cell_type": "code",
   "execution_count": 11,
   "id": "81f8eae8-c3ea-4bb6-9504-68d8f42f2332",
   "metadata": {},
   "outputs": [
    {
     "name": "stdout",
     "output_type": "stream",
     "text": [
      "('Computer Science', 10)\n",
      "('Art', 15)\n",
      "('Business', 20)\n"
     ]
    }
   ],
   "source": [
    "def course_generator():\n",
    "    yield ('Computer Science', 5)\n",
    "    yield ('Art', 10)\n",
    "    yield ('Business', 15)\n",
    "\n",
    "def add_five_students(courses):\n",
    "    for course, num_students in courses:\n",
    "        yield (course, num_students + 5)\n",
    "\n",
    "increased_courses = add_five_students(course_generator())\n",
    "for course in increased_courses:\n",
    "    print(course)\n",
    "    "
   ]
  },
  {
   "cell_type": "code",
   "execution_count": 12,
   "id": "0431f9af-d544-46cd-a52f-3484d77f629f",
   "metadata": {},
   "outputs": [
    {
     "name": "stdout",
     "output_type": "stream",
     "text": [
      "Days Left: 25\n",
      "Days Left: 24\n",
      "Days Left: 23\n",
      "Days Left: 22\n",
      "Days Left: 21\n",
      "Days Left: 20\n",
      "Days Left: 19\n",
      "Days Left: 18\n",
      "Days Left: 17\n",
      "Days Left: 16\n",
      "Days Left: 15\n",
      "Days Left: 9\n",
      "Days Left: 8\n",
      "Days Left: 7\n",
      "Days Left: 6\n",
      "Days Left: 5\n",
      "Days Left: 4\n",
      "Days Left: 3\n",
      "Summa Cum Laude\n",
      "Cum Laude\n"
     ]
    }
   ],
   "source": [
    "def summa():\n",
    "    yield 'Summa Cum Laude'\n",
    "\n",
    "def magna():\n",
    "    yield 'Magna Cum Laude' \n",
    "\n",
    "def cum_laude():\n",
    "    yield 'Cum Laude'\n",
    "\n",
    "def honors_generator(gpas):\n",
    "    for gpa in gpas:\n",
    "        if gpa > 3.9:\n",
    "            yield from summa()\n",
    "        elif gpa > 3.7:\n",
    "            yield from magna()\n",
    "        elif gpa > 3.5:\n",
    "            yield from cum_laude()\n",
    "\n",
    "\n",
    "def graduation_countdown(days):\n",
    "    while days >= 0:\n",
    "        days_left = yield days\n",
    "        if days_left != None:\n",
    "            days = days_left\n",
    "        else:\n",
    "            days -= 1\n",
    "\n",
    "\n",
    "days = 25\n",
    "countdown_generator = (day for day in range(days, -1,-1))\n",
    "grad_days = graduation_countdown(days)\n",
    "for day in grad_days:\n",
    "    if day == 15:\n",
    "        grad_days.send(10)\n",
    "    elif day == 3:\n",
    "        grad_days.close()\n",
    "    print(\"Days Left: \" + str(day))\n",
    "\n",
    "\n",
    "days = 25\n",
    "gpas = [3.2, 4.0, 3.6, 2.9]\n",
    "honors = honors_generator(gpas)\n",
    "for honor_label in honors:\n",
    "    print(honor_label)"
   ]
  }
 ],
 "metadata": {
  "kernelspec": {
   "display_name": "Python 3 (ipykernel)",
   "language": "python",
   "name": "python3"
  },
  "language_info": {
   "codemirror_mode": {
    "name": "ipython",
    "version": 3
   },
   "file_extension": ".py",
   "mimetype": "text/x-python",
   "name": "python",
   "nbconvert_exporter": "python",
   "pygments_lexer": "ipython3",
   "version": "3.9.13"
  }
 },
 "nbformat": 4,
 "nbformat_minor": 5
}
