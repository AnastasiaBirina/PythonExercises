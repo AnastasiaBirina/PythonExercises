{
 "cells": [
  {
   "cell_type": "markdown",
   "id": "101b424e-3161-4702-8ce0-828209d24edb",
   "metadata": {},
   "source": [
    "#### 1. Создайте класс Soda (для определения типа газированной воды), принимающий 1 аргумент при инициализации (отвечающий за добавку к выбираемому лимонаду). В этом классе реализуйте метод show_my_drink(), выводящий на печать «Газировка и {ДОБАВКА}» в случае наличия добавки, а иначе отобразится следующая фраза: «Обычная газировка»."
   ]
  },
  {
   "cell_type": "code",
   "execution_count": 17,
   "id": "ae649519-0b0b-44a4-812b-6ccb5fc6a7bd",
   "metadata": {},
   "outputs": [],
   "source": [
    "class Soda():\n",
    "    def __init__(self, ingridient = None):\n",
    "        self.ingridient = ingridient\n",
    "    def show_my_drink(self):\n",
    "         print(\"Обычная газировка\") if self.ingridient is None or not isinstance(self.ingridient, str) else print(\"Газировка и\", self.ingridient)"
   ]
  },
  {
   "cell_type": "code",
   "execution_count": 18,
   "id": "cf72f5cf-a5ad-4fd1-8250-6c935ae40075",
   "metadata": {},
   "outputs": [
    {
     "name": "stdout",
     "output_type": "stream",
     "text": [
      "Обычная газировка\n",
      "Газировка и малина\n",
      "Обычная газировка\n"
     ]
    }
   ],
   "source": [
    "# Тесты\n",
    "drink1 = Soda()\n",
    "drink2 = Soda('малина')\n",
    "drink3 = Soda(5)\n",
    "drink1.show_my_drink()\n",
    "drink2.show_my_drink()\n",
    "drink3.show_my_drink()"
   ]
  },
  {
   "cell_type": "markdown",
   "id": "4cd08f12-bb7d-479f-9b2f-42b80d4e398d",
   "metadata": {},
   "source": [
    "#### 2. Евгения создала класс KgToPounds с параметром kg, куда передается определенное количество килограмм, а с помощью метода to_pounds() они переводятся в фунты. Чтобы закрыть доступ к переменной “kg” она реализовала методы set_kg() - для задания нового значения килограммов, get_kg()  - для вывода текущего значения кг. Из-за этого возникло неудобство: нам нужно теперь использовать эти 2 метода для задания и вывода значений. Помогите ей переделать класс с использованием функции property() и свойств-декораторов. Код приведен ниже.\n",
    "```python\n",
    "class KgToPounds:\n",
    "\n",
    "    def __init__(self, kg):\n",
    "        self.__kg = kg\n",
    "\n",
    "    def to_pounds(self):\n",
    "        return self.__kg * 2.205\n",
    "\n",
    "    def set_kg(self, new_kg):\n",
    "        if isinstance(new_kg, (int, float)):\n",
    "            self.__kg = new_kg\n",
    "        else:\n",
    "            raise ValueError('Килограммы задаются только числами')\n",
    "    \n",
    "    def get_kg(self):\n",
    "        return self.__kg\n",
    "```"
   ]
  },
  {
   "cell_type": "code",
   "execution_count": 26,
   "id": "72e135c4-9f39-4f0a-9b02-9f7f4b46a199",
   "metadata": {},
   "outputs": [],
   "source": [
    "class KgToPounds:\n",
    "\n",
    "    def __init__(self, kg):\n",
    "        self._kg = kg\n",
    "    \n",
    "    def to_pounds(self):\n",
    "        return self._kg * 2.205\n",
    "    \n",
    "    @property\n",
    "    def kg(self):\n",
    "        return self._kg\n",
    "    \n",
    "    @kg.setter\n",
    "    def kg(self, new_kg):\n",
    "        if isinstance(new_kg, (int, float)):\n",
    "            self._kg = new_kg\n",
    "        else:\n",
    "            raise ValueError('Килограммы задаются только числами')"
   ]
  },
  {
   "cell_type": "code",
   "execution_count": 27,
   "id": "6d3f59de-c009-4d83-bdf8-882d2b5deb62",
   "metadata": {},
   "outputs": [
    {
     "name": "stdout",
     "output_type": "stream",
     "text": [
      "26.46\n",
      "12\n",
      "41\n"
     ]
    },
    {
     "ename": "ValueError",
     "evalue": "Килограммы задаются только числами",
     "output_type": "error",
     "traceback": [
      "\u001b[1;31m---------------------------------------------------------------------------\u001b[0m",
      "\u001b[1;31mValueError\u001b[0m                                Traceback (most recent call last)",
      "\u001b[1;32m~\\AppData\\Local\\Temp\\ipykernel_15028\\2214401101.py\u001b[0m in \u001b[0;36m<module>\u001b[1;34m\u001b[0m\n\u001b[0;32m      4\u001b[0m \u001b[0mweight\u001b[0m\u001b[1;33m.\u001b[0m\u001b[0mkg\u001b[0m \u001b[1;33m=\u001b[0m \u001b[1;36m41\u001b[0m\u001b[1;33m\u001b[0m\u001b[1;33m\u001b[0m\u001b[0m\n\u001b[0;32m      5\u001b[0m \u001b[0mprint\u001b[0m\u001b[1;33m(\u001b[0m\u001b[0mweight\u001b[0m\u001b[1;33m.\u001b[0m\u001b[0mkg\u001b[0m\u001b[1;33m)\u001b[0m\u001b[1;33m\u001b[0m\u001b[1;33m\u001b[0m\u001b[0m\n\u001b[1;32m----> 6\u001b[1;33m \u001b[0mweight\u001b[0m\u001b[1;33m.\u001b[0m\u001b[0mkg\u001b[0m \u001b[1;33m=\u001b[0m \u001b[1;34m'десять'\u001b[0m\u001b[1;33m\u001b[0m\u001b[1;33m\u001b[0m\u001b[0m\n\u001b[0m",
      "\u001b[1;32m~\\AppData\\Local\\Temp\\ipykernel_15028\\1090911459.py\u001b[0m in \u001b[0;36mkg\u001b[1;34m(self, new_kg)\u001b[0m\n\u001b[0;32m     16\u001b[0m             \u001b[0mself\u001b[0m\u001b[1;33m.\u001b[0m\u001b[0m_kg\u001b[0m \u001b[1;33m=\u001b[0m \u001b[0mnew_kg\u001b[0m\u001b[1;33m\u001b[0m\u001b[1;33m\u001b[0m\u001b[0m\n\u001b[0;32m     17\u001b[0m         \u001b[1;32melse\u001b[0m\u001b[1;33m:\u001b[0m\u001b[1;33m\u001b[0m\u001b[1;33m\u001b[0m\u001b[0m\n\u001b[1;32m---> 18\u001b[1;33m             \u001b[1;32mraise\u001b[0m \u001b[0mValueError\u001b[0m\u001b[1;33m(\u001b[0m\u001b[1;34m'Килограммы задаются только числами'\u001b[0m\u001b[1;33m)\u001b[0m\u001b[1;33m\u001b[0m\u001b[1;33m\u001b[0m\u001b[0m\n\u001b[0m",
      "\u001b[1;31mValueError\u001b[0m: Килограммы задаются только числами"
     ]
    }
   ],
   "source": [
    "weight = KgToPounds(12)\n",
    "print(weight.to_pounds())\n",
    "print(weight.kg)\n",
    "weight.kg = 41\n",
    "print(weight.kg)\n",
    "weight.kg = 'десять'"
   ]
  },
  {
   "cell_type": "markdown",
   "id": "1c039e63-91cc-40da-bf60-bed589f9ebbd",
   "metadata": {},
   "source": [
    "#### Николай решил создать класс Nikola, принимающий при инициализации 2 параметра: имя и возраст. Но на этом он не успокоился. Не важно, какое имя передаст пользователь при создании экземпляра, оно всегда будет содержать “Николая”. В частности - если пользователя на самом деле зовут Николаем, то с именем ничего не произойдет, а если его зовут, например, Максим, то оно преобразуется в “Я не Максим, а Николай”.Более того, никаких других атрибутов и методов у экземпляра не может быть добавлено, даже если кто-то и вздумает так поступить (т.е. если некий пользователь решит прибавить к экземпляру свойство «отчество» или метод «приветствие», то ничего у такого хитреца не получится)."
   ]
  },
  {
   "cell_type": "code",
   "execution_count": 31,
   "id": "c0756221-9b8b-46e3-a55e-9b8ba8522ba9",
   "metadata": {},
   "outputs": [],
   "source": [
    "class Nikola():\n",
    "    __slots__ = ['name', 'age']\n",
    "    def __init__(self, name, age):\n",
    "        self.name = name if name == 'Николай' else f'Я не {name}, а Николай'\n",
    "        self.age = age"
   ]
  },
  {
   "cell_type": "code",
   "execution_count": 33,
   "id": "ed780745-de47-41fa-96fa-7955ece065df",
   "metadata": {},
   "outputs": [
    {
     "name": "stdout",
     "output_type": "stream",
     "text": [
      "Я не Иван, а Николай\n",
      "Николай\n"
     ]
    },
    {
     "ename": "AttributeError",
     "evalue": "'Nikola' object has no attribute 'surname'",
     "output_type": "error",
     "traceback": [
      "\u001b[1;31m---------------------------------------------------------------------------\u001b[0m",
      "\u001b[1;31mAttributeError\u001b[0m                            Traceback (most recent call last)",
      "\u001b[1;32m~\\AppData\\Local\\Temp\\ipykernel_15028\\599145980.py\u001b[0m in \u001b[0;36m<module>\u001b[1;34m\u001b[0m\n\u001b[0;32m      3\u001b[0m \u001b[0mprint\u001b[0m\u001b[1;33m(\u001b[0m\u001b[0mperson1\u001b[0m\u001b[1;33m.\u001b[0m\u001b[0mname\u001b[0m\u001b[1;33m)\u001b[0m\u001b[1;33m\u001b[0m\u001b[1;33m\u001b[0m\u001b[0m\n\u001b[0;32m      4\u001b[0m \u001b[0mprint\u001b[0m\u001b[1;33m(\u001b[0m\u001b[0mperson2\u001b[0m\u001b[1;33m.\u001b[0m\u001b[0mname\u001b[0m\u001b[1;33m)\u001b[0m\u001b[1;33m\u001b[0m\u001b[1;33m\u001b[0m\u001b[0m\n\u001b[1;32m----> 5\u001b[1;33m \u001b[0mperson2\u001b[0m\u001b[1;33m.\u001b[0m\u001b[0msurname\u001b[0m \u001b[1;33m=\u001b[0m \u001b[1;34m'Петров'\u001b[0m\u001b[1;33m\u001b[0m\u001b[1;33m\u001b[0m\u001b[0m\n\u001b[0m",
      "\u001b[1;31mAttributeError\u001b[0m: 'Nikola' object has no attribute 'surname'"
     ]
    }
   ],
   "source": [
    "person1 = Nikola('Иван', 31)\n",
    "person2 = Nikola('Николай', 14)\n",
    "print(person1.name)\n",
    "print(person2.name)\n",
    "person2.surname = 'Петров'"
   ]
  }
 ],
 "metadata": {
  "kernelspec": {
   "display_name": "Python 3 (ipykernel)",
   "language": "python",
   "name": "python3"
  },
  "language_info": {
   "codemirror_mode": {
    "name": "ipython",
    "version": 3
   },
   "file_extension": ".py",
   "mimetype": "text/x-python",
   "name": "python",
   "nbconvert_exporter": "python",
   "pygments_lexer": "ipython3",
   "version": "3.9.13"
  }
 },
 "nbformat": 4,
 "nbformat_minor": 5
}
