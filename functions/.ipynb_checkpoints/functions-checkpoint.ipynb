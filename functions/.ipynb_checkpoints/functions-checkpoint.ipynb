{
 "cells": [
  {
   "cell_type": "markdown",
   "id": "6d1faffe-ae38-462f-8fab-f12ad962724e",
   "metadata": {
    "tags": []
   },
   "source": [
    "#### Variable number of arguments: *args"
   ]
  },
  {
   "cell_type": "code",
   "execution_count": 1,
   "id": "1ccaa655-e082-445e-83da-6fdbdba36f04",
   "metadata": {},
   "outputs": [
    {
     "name": "stdout",
     "output_type": "stream",
     "text": [
      "('Orange Juice', 'Apple Juice', 'Scrambled Eggs', 'Pancakes')\n"
     ]
    }
   ],
   "source": [
    "def print_order(*order_items):\n",
    "    print(order_items)\n",
    "\n",
    "print_order('Orange Juice', 'Apple Juice', 'Scrambled Eggs', 'Pancakes')"
   ]
  },
  {
   "cell_type": "markdown",
   "id": "94833185-3b54-47ea-9451-9f006678e77d",
   "metadata": {
    "tags": []
   },
   "source": [
    "#### Working with *args"
   ]
  },
  {
   "cell_type": "code",
   "execution_count": 2,
   "id": "1cb1bfae-23dd-4777-9801-cfbb4d476f4f",
   "metadata": {},
   "outputs": [
    {
     "name": "stdout",
     "output_type": "stream",
     "text": [
      "{1: {'name': 'Jiho', 'vip_status': False, 'order': 'Orange Juice, Apple Juice'}, 2: {}, 3: {}, 4: {}, 5: {}, 6: {}, 7: {}}\n",
      "Steak\n",
      "Seabass\n",
      "Wine Bottle\n",
      "{1: {'name': 'Jiho', 'vip_status': False, 'order': 'Orange Juice, Apple Juice'}, 2: {'name': 'Arwa', 'vip_status': True, 'order': ('Steak', 'Seabass', 'Wine Bottle')}, 3: {}, 4: {}, 5: {}, 6: {}, 7: {}}\n"
     ]
    }
   ],
   "source": [
    "tables = {\n",
    "  1: {\n",
    "    'name': 'Jiho',\n",
    "    'vip_status': False,\n",
    "    'order': 'Orange Juice, Apple Juice'\n",
    "  },\n",
    "  2: {},\n",
    "  3: {},\n",
    "  4: {},\n",
    "  5: {},\n",
    "  6: {},\n",
    "  7: {},\n",
    "}\n",
    "print(tables)\n",
    "\n",
    "def assign_table(table_number, name, vip_status=False): \n",
    "    tables[table_number]['name'] = name\n",
    "    tables[table_number]['vip_status'] = vip_status\n",
    "    tables[table_number]['order'] = ''\n",
    "\n",
    "def assign_and_print_order(table_number, *order_items):\n",
    "    tables[table_number]['order'] = order_items\n",
    "    for item in order_items:\n",
    "        print(item)\n",
    "\n",
    "assign_table(2, 'Arwa', True)\n",
    "assign_and_print_order(2, 'Steak', 'Seabass', 'Wine Bottle')\n",
    "print(tables)\n"
   ]
  },
  {
   "cell_type": "markdown",
   "id": "cff435ae-6843-46cc-94d9-05dd7c64957d",
   "metadata": {
    "tags": []
   },
   "source": [
    "#### Variable number of arguments: **kwargs"
   ]
  },
  {
   "cell_type": "code",
   "execution_count": 3,
   "id": "a3c0ba23-c6ab-477c-bf74-56a4b7fdaa7e",
   "metadata": {},
   "outputs": [
    {
     "name": "stdout",
     "output_type": "stream",
     "text": [
      "{'food': 'Pancakes, Poached Egg', 'drinks': 'Water'}\n",
      "Pancakes, Poached Egg\n"
     ]
    }
   ],
   "source": [
    "tables = {\n",
    "  1: {\n",
    "    'name': 'Chioma',\n",
    "    'vip_status': False,\n",
    "    'order': {\n",
    "      'drinks': 'Orange Juice, Apple Juice',\n",
    "      'food_items': 'Pancakes'\n",
    "    }\n",
    "  },\n",
    "  2: {},\n",
    "  3: {},\n",
    "  4: {},\n",
    "  5: {},\n",
    "  6: {},\n",
    "  7: {},\n",
    "}\n",
    "\n",
    "def assign_food_items(**order_items):\n",
    "    food = order_items.get('food')\n",
    "    drinks = order_items.get('drinks')\n",
    "    print(order_items)\n",
    "    print(food)\n",
    "\n",
    "assign_food_items(food='Pancakes, Poached Egg', drinks='Water')"
   ]
  },
  {
   "cell_type": "markdown",
   "id": "3ed90217-c610-4ccd-bf32-aad77122c74b",
   "metadata": {
    "tags": []
   },
   "source": [
    "#### Working with **kwargs"
   ]
  },
  {
   "cell_type": "code",
   "execution_count": 4,
   "id": "116384a3-3324-4b00-af43-69521c100659",
   "metadata": {},
   "outputs": [
    {
     "name": "stdout",
     "output_type": "stream",
     "text": [
      "--- tables with Douglas --- \n",
      " {1: {'name': 'Chioma', 'vip_status': False, 'order': {'drinks': 'Orange Juice, Apple Juice', 'food_items': 'Pancakes'}}, 2: {'name': 'Douglas', 'vip_status': True, 'order': {}}, 3: {}, 4: {}, 5: {}, 6: {}, 7: {}}\n",
      "\n",
      " --- tables after update --- \n",
      "\n",
      "{1: {'name': 'Chioma', 'vip_status': False, 'order': {'drinks': 'Orange Juice, Apple Juice', 'food_items': 'Pancakes'}}, 2: {'name': 'Douglas', 'vip_status': True, 'order': {'food_items': 'Seabass, Gnocchi, Pizza', 'drinks': 'Margarita, Water'}}, 3: {}, 4: {}, 5: {}, 6: {}, 7: {}}\n"
     ]
    }
   ],
   "source": [
    "tables = {\n",
    "  1: {\n",
    "    'name': 'Chioma',\n",
    "    'vip_status': False,\n",
    "    'order': {\n",
    "      'drinks': 'Orange Juice, Apple Juice',\n",
    "      'food_items': 'Pancakes'\n",
    "    }\n",
    "  },\n",
    "  2: {},\n",
    "  3: {},\n",
    "  4: {},\n",
    "  5: {},\n",
    "  6: {},\n",
    "  7: {},\n",
    "}\n",
    "\n",
    "def assign_table(table_number, name, vip_status=False): \n",
    "    tables[table_number]['name'] = name\n",
    "    tables[table_number]['vip_status'] = vip_status\n",
    "    tables[table_number]['order'] = {}\n",
    "\n",
    "assign_table(2, 'Douglas', True)\n",
    "print('--- tables with Douglas --- \\n', tables)\n",
    "\n",
    "def assign_food_items(table_number, **order_items):\n",
    "    food = order_items.get('food')\n",
    "    drinks = order_items.get('drinks')\n",
    "    tables[table_number]['order']['food_items'] = food\n",
    "    tables[table_number]['order']['drinks'] = drinks\n",
    "\n",
    "print('\\n --- tables after update --- \\n')\n",
    "\n",
    "assign_food_items(2, food = 'Seabass, Gnocchi, Pizza', drinks = 'Margarita, Water')\n",
    "print(tables)"
   ]
  },
  {
   "cell_type": "markdown",
   "id": "0811059a-cfd8-403a-a69f-444e7b8bdb31",
   "metadata": {
    "tags": []
   },
   "source": [
    "#### All together"
   ]
  },
  {
   "cell_type": "code",
   "execution_count": 5,
   "id": "a65b6c8a-bde7-4770-a829-8c4d33d96971",
   "metadata": {},
   "outputs": [
    {
     "name": "stdout",
     "output_type": "stream",
     "text": [
      "Baby Beets\n",
      "('Salmon', 'Scallops')\n",
      "Mashed Potatoes\n",
      "{'iceCream': 'Vanilla', 'dessert': 'Cookies and Cream'}\n"
     ]
    }
   ],
   "source": [
    "def single_prix_fixe_order(appetizer, *entrees, sides, **dessert_scoops):\n",
    "    print(appetizer)\n",
    "    print(entrees)\n",
    "    print(sides)\n",
    "    print(dessert_scoops)\n",
    "\n",
    "single_prix_fixe_order('Baby Beets', 'Salmon', 'Scallops', sides = 'Mashed Potatoes', iceCream = 'Vanilla', dessert = 'Cookies and Cream')"
   ]
  },
  {
   "cell_type": "markdown",
   "id": "2f841907-f39c-4c3d-95be-38ae6e05a8f0",
   "metadata": {},
   "source": [
    "#### Function Call Unpacking & Beyond"
   ]
  },
  {
   "cell_type": "code",
   "execution_count": 6,
   "id": "b4dfb2d6-e9bc-4e07-92ae-4d0af4664939",
   "metadata": {},
   "outputs": [
    {
     "name": "stdout",
     "output_type": "stream",
     "text": [
      "128.28\n"
     ]
    }
   ],
   "source": [
    "def calculate_price_per_person(total, tip, split):\n",
    "    total_tip = total * (tip/100)\n",
    "    split_price = (total + total_tip) / split\n",
    "    print(split_price)\n",
    "\n",
    "table_7_total = [534.50, 20.0, 5]\n",
    "calculate_price_per_person(*table_7_total)"
   ]
  }
 ],
 "metadata": {
  "kernelspec": {
   "display_name": "Python 3 (ipykernel)",
   "language": "python",
   "name": "python3"
  },
  "language_info": {
   "codemirror_mode": {
    "name": "ipython",
    "version": 3
   },
   "file_extension": ".py",
   "mimetype": "text/x-python",
   "name": "python",
   "nbconvert_exporter": "python",
   "pygments_lexer": "ipython3",
   "version": "3.9.13"
  }
 },
 "nbformat": 4,
 "nbformat_minor": 5
}
