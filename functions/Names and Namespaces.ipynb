{
 "cells": [
  {
   "cell_type": "markdown",
   "id": "9799cadd-a530-4bfa-b996-d6d37120f5b7",
   "metadata": {},
   "source": [
    "#### Built-in Namespace"
   ]
  },
  {
   "cell_type": "markdown",
   "id": "1e9400ab-5c31-410e-b46f-8d5b8136db49",
   "metadata": {},
   "source": [
    "Whenever we run a Python application, we are provided a built-in namespace that is created when the interpreter is started and has a lifetime until the interpreter terminates (usually when our program is finished running). Since Python provides the namespace, these objects are accessible without the need to import a separate module."
   ]
  },
  {
   "cell_type": "code",
   "execution_count": 12,
   "id": "4121a9af-2ecd-47e8-949f-6691ca33cf80",
   "metadata": {},
   "outputs": [
    {
     "name": "stdout",
     "output_type": "stream",
     "text": [
      "['ArithmeticError', 'AssertionError', 'AttributeError', 'BaseException', 'BlockingIOError', 'BrokenPipeError', 'BufferError', 'BytesWarning', 'ChildProcessError', 'ConnectionAbortedError', 'ConnectionError', 'ConnectionRefusedError', 'ConnectionResetError', 'DeprecationWarning', 'EOFError', 'Ellipsis', 'EnvironmentError', 'Exception', 'False', 'FileExistsError', 'FileNotFoundError', 'FloatingPointError', 'FutureWarning', 'GeneratorExit', 'IOError', 'ImportError', 'ImportWarning', 'IndentationError', 'IndexError', 'InterruptedError', 'IsADirectoryError', 'KeyError', 'KeyboardInterrupt', 'LookupError', 'MemoryError', 'ModuleNotFoundError', 'NameError', 'None', 'NotADirectoryError', 'NotImplemented', 'NotImplementedError', 'OSError', 'OverflowError', 'PendingDeprecationWarning', 'PermissionError', 'ProcessLookupError', 'RecursionError', 'ReferenceError', 'ResourceWarning', 'RuntimeError', 'RuntimeWarning', 'StopAsyncIteration', 'StopIteration', 'SyntaxError', 'SyntaxWarning', 'SystemError', 'SystemExit', 'TabError', 'TimeoutError', 'True', 'TypeError', 'UnboundLocalError', 'UnicodeDecodeError', 'UnicodeEncodeError', 'UnicodeError', 'UnicodeTranslateError', 'UnicodeWarning', 'UserWarning', 'ValueError', 'Warning', 'WindowsError', 'ZeroDivisionError', '__IPYTHON__', '__build_class__', '__debug__', '__doc__', '__import__', '__loader__', '__name__', '__package__', '__spec__', 'abs', 'all', 'any', 'ascii', 'bin', 'bool', 'breakpoint', 'bytearray', 'bytes', 'callable', 'chr', 'classmethod', 'compile', 'complex', 'copyright', 'credits', 'delattr', 'dict', 'dir', 'display', 'divmod', 'enumerate', 'eval', 'exec', 'execfile', 'filter', 'float', 'format', 'frozenset', 'get_ipython', 'getattr', 'globals', 'hasattr', 'hash', 'help', 'hex', 'id', 'input', 'int', 'isinstance', 'issubclass', 'iter', 'len', 'license', 'list', 'locals', 'map', 'max', 'memoryview', 'min', 'next', 'object', 'oct', 'open', 'ord', 'pow', 'print', 'property', 'range', 'repr', 'reversed', 'round', 'runfile', 'set', 'setattr', 'slice', 'sorted', 'staticmethod', 'str', 'sum', 'super', 'tuple', 'type', 'vars', 'zip']\n"
     ]
    }
   ],
   "source": [
    "print(dir(__builtins__))"
   ]
  },
  {
   "cell_type": "markdown",
   "id": "f1fc5b08-1fc9-48b8-8450-c74e4c13ec82",
   "metadata": {},
   "source": [
    "#### Global Namespace"
   ]
  },
  {
   "cell_type": "markdown",
   "id": "b7b3591e-cefd-40b7-b16a-45461029dea6",
   "metadata": {},
   "source": [
    "The global namespace exists one level below the built-in namespace. Generally, it includes all non-nested names in the module (file) we are choosing to run the Python interpreter on. The global namespace is created when we run our main program and has a lifetime until the interpreter terminates (usually when our program is finished running). "
   ]
  },
  {
   "cell_type": "code",
   "execution_count": 14,
   "id": "90f8bc75-40a8-4e7e-8b3e-c84e37f7395c",
   "metadata": {},
   "outputs": [
    {
     "name": "stdout",
     "output_type": "stream",
     "text": [
      " \n",
      " \n"
     ]
    }
   ],
   "source": [
    "print(' ')\n",
    "\n",
    "# print(globals())\n",
    "\n",
    "global_variable = 'global'\n",
    "\n",
    "def print_global():\n",
    "    global_variable = 'nested global'\n",
    "    nested_variable = 'nested value'\n",
    "\n",
    "print(' ')\n",
    "# print(globals())"
   ]
  },
  {
   "cell_type": "markdown",
   "id": "85f9e3ed-7a37-4a4a-9aca-5a3710453bbd",
   "metadata": {},
   "source": [
    "#### Local Namespace"
   ]
  },
  {
   "cell_type": "markdown",
   "id": "a62f40ff-f127-480d-b6a3-b18582987171",
   "metadata": {},
   "source": [
    "Similar to how we can see the global namespace using a built-in function called **globals()**, Python provides a function called **locals()** to see any generated local namespace. "
   ]
  },
  {
   "cell_type": "code",
   "execution_count": 21,
   "id": "8daddea7-8ac0-43f4-9340-428baa1fd67d",
   "metadata": {},
   "outputs": [],
   "source": [
    "# global_variable = 'global'\n",
    "\n",
    "# print(' -- Local and global Namespaces with empty script -- \\n')\n",
    "# print(locals())\n",
    "\n",
    "# def divide(num1, num2):\n",
    "#     result = num1/num2\n",
    "#     print(locals())\n",
    "    \n",
    "# def multiply(num1, num2):\n",
    "#     product  = num1*num2\n",
    "#     print(locals())\n",
    "\n",
    "# print(' \\n -- Local Namespace for divide -- \\n')\n",
    "# divide(3, 4)\n",
    "\n",
    "# print(' \\n -- Local Namespace for multiply -- \\n')\n",
    "# multiply(4, 50)\n",
    "\n",
    "# print(' \\n -- Local Namespace final -- \\n')\n",
    "# print(locals())"
   ]
  },
  {
   "cell_type": "markdown",
   "id": "e52cca5f-59f5-4666-bdb8-d0ade51c04a0",
   "metadata": {},
   "source": [
    "#### Enclosing Namespace"
   ]
  },
  {
   "cell_type": "markdown",
   "id": "2f0bdf84-0aa0-4152-88ca-07e54aac65f4",
   "metadata": {},
   "source": [
    "Enclosing namespaces are created specifically when we work with nested functions and just like with the local namespace, will only exist until the function is done executing "
   ]
  },
  {
   "cell_type": "code",
   "execution_count": 27,
   "id": "9ce0b975-5a55-412f-842d-d8c5cb974166",
   "metadata": {},
   "outputs": [
    {
     "name": "stdout",
     "output_type": "stream",
     "text": [
      "{'inner_value': 'inner', 'inner_nested_function': <function outer_function.<locals>.inner_function.<locals>.inner_nested_function at 0x000002711F752670>}\n"
     ]
    }
   ],
   "source": [
    "global_variable = 'global'\n",
    " \n",
    "def outer_function():\n",
    "    outer_value = \"outer\"\n",
    "    \n",
    "    def inner_function():\n",
    "        inner_value = \"inner\"\n",
    "        def inner_nested_function():\n",
    "            nested_value = 'nested'\n",
    "        inner_nested_function()\n",
    "        # Add locals() below\n",
    "        print(locals())\n",
    "    inner_function()\n",
    "\n",
    "outer_function()"
   ]
  }
 ],
 "metadata": {
  "kernelspec": {
   "display_name": "Python 3 (ipykernel)",
   "language": "python",
   "name": "python3"
  },
  "language_info": {
   "codemirror_mode": {
    "name": "ipython",
    "version": 3
   },
   "file_extension": ".py",
   "mimetype": "text/x-python",
   "name": "python",
   "nbconvert_exporter": "python",
   "pygments_lexer": "ipython3",
   "version": "3.9.13"
  }
 },
 "nbformat": 4,
 "nbformat_minor": 5
}
