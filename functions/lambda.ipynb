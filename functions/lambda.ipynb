{
 "cells": [
  {
   "cell_type": "markdown",
   "id": "ebfcecaf-a108-4836-891a-3cad6580a181",
   "metadata": {},
   "source": [
    "https://habr.com/ru/companies/piter/articles/674234/"
   ]
  },
  {
   "cell_type": "code",
   "execution_count": 1,
   "id": "bc3aea83-8b56-4874-8086-09e5c07123dc",
   "metadata": {},
   "outputs": [
    {
     "name": "stdout",
     "output_type": "stream",
     "text": [
      "64\n"
     ]
    }
   ],
   "source": [
    "double = lambda x: x**2\n",
    "print(double(8))"
   ]
  },
  {
   "cell_type": "markdown",
   "id": "16e90314-1a22-46c5-a921-958ab67b54f3",
   "metadata": {},
   "source": [
    "#### filter()"
   ]
  },
  {
   "cell_type": "markdown",
   "id": "11e89b92-3e13-440a-84ab-d8b83997ad9e",
   "metadata": {},
   "source": [
    "Функция filter() в Python принимает в качестве аргументов функцию и список .\n",
    "\n",
    "Функция вызывается со всеми элементами в списке, и в результате возвращается новый список, содержащий элементы, для которых функция результирует в True."
   ]
  },
  {
   "cell_type": "code",
   "execution_count": 9,
   "id": "9a800551-e3b8-448c-b8f5-8c40897df551",
   "metadata": {},
   "outputs": [
    {
     "name": "stdout",
     "output_type": "stream",
     "text": [
      "[0, 1, 4, 9, 16, 25, 36, 49, 64, 81]\n",
      "[0, 4, 16, 36, 64]\n"
     ]
    }
   ],
   "source": [
    "my_list= [x**2 for x in range(10)]\n",
    "print(my_list)\n",
    "new_list = list(filter(lambda x: (x%2 == 0), my_list))\n",
    "print(new_list)"
   ]
  },
  {
   "cell_type": "markdown",
   "id": "f76d043b-ce3b-46fa-a0ba-a34e1864c02a",
   "metadata": {},
   "source": [
    "#### map()"
   ]
  },
  {
   "cell_type": "markdown",
   "id": "4da62703-87e6-45bb-afe0-8c2c53ba41cc",
   "metadata": {},
   "source": [
    "Функция map() принимает в качестве аргументов функцию и список.\n",
    "\n",
    "Функция вызывается со всеми элементами в списке, и в результате возвращается новый список, содержащий элементы, возвращенные данной функцией для каждого исходного элемента."
   ]
  },
  {
   "cell_type": "code",
   "execution_count": 11,
   "id": "80820a11-649c-46a0-b71c-dfce836aef1b",
   "metadata": {},
   "outputs": [
    {
     "name": "stdout",
     "output_type": "stream",
     "text": [
      "[0, 2, 8, 18, 32, 50, 72, 98, 128, 162]\n"
     ]
    }
   ],
   "source": [
    "new_list = list(map(lambda x: x*2 , my_list))\n",
    "print(new_list)"
   ]
  },
  {
   "cell_type": "markdown",
   "id": "429c35d4-37bf-4b0d-aa53-1f5bfc7148d5",
   "metadata": {},
   "source": [
    "#### reduce()"
   ]
  },
  {
   "cell_type": "markdown",
   "id": "b9fe9bb8-f013-4650-b68b-af70d41696d7",
   "metadata": {},
   "source": [
    "Функция reduce() принимает в качестве аргументов функцию и список. Функция вызывается с помощью лямбда-функции и итерируемого объекта  и возвращается новый уменьшенный результат. Так выполняется повторяющаяся операцию над парами итерируемых объектов. Функция reduce() входит в состав модуля functools."
   ]
  },
  {
   "cell_type": "code",
   "execution_count": 12,
   "id": "290436ed-955f-4db2-9bd2-76c8adb10999",
   "metadata": {},
   "outputs": [],
   "source": [
    "from functools import reduce"
   ]
  },
  {
   "cell_type": "code",
   "execution_count": 13,
   "id": "7adf3491-2359-4c57-b350-3c9433ec2d92",
   "metadata": {},
   "outputs": [
    {
     "name": "stdout",
     "output_type": "stream",
     "text": [
      "285\n"
     ]
    }
   ],
   "source": [
    "summa = reduce((lambda x, y: x + y), my_list)\n",
    "print(summa)"
   ]
  },
  {
   "cell_type": "markdown",
   "id": "2c74d631-a35c-44e1-a038-c558d9418448",
   "metadata": {},
   "source": [
    "#### Лямбда и условные операторы"
   ]
  },
  {
   "cell_type": "code",
   "execution_count": 14,
   "id": "0a2092fd-0962-4e2c-954c-d1e2644eceb7",
   "metadata": {},
   "outputs": [
    {
     "name": "stdout",
     "output_type": "stream",
     "text": [
      "5\n"
     ]
    }
   ],
   "source": [
    "max_number = lambda a, b: a if a > b else b\n",
    "print(max_number(3, 5))"
   ]
  },
  {
   "cell_type": "markdown",
   "id": "e15d98d0-b0a2-4075-85b8-c0ddef84dcd1",
   "metadata": {},
   "source": [
    "#### Лямбда и множественные операторы"
   ]
  },
  {
   "cell_type": "code",
   "execution_count": 15,
   "id": "4f25799f-d140-4a41-b2b9-baf8cb0594b9",
   "metadata": {},
   "outputs": [
    {
     "name": "stdout",
     "output_type": "stream",
     "text": [
      "[9, 14, 12]\n"
     ]
    }
   ],
   "source": [
    "current_list = [[10,6,9],[0, 14, 16, 80],[8, 12, 30, 44]]\n",
    "sorted_list = lambda x: (sorted(i) for i in x)\n",
    "second_largest = lambda x, func: [y[1] for y in func(x)]\n",
    "result = second_largest(current_list, sorted_list)\n",
    "print(result)"
   ]
  }
 ],
 "metadata": {
  "kernelspec": {
   "display_name": "Python 3 (ipykernel)",
   "language": "python",
   "name": "python3"
  },
  "language_info": {
   "codemirror_mode": {
    "name": "ipython",
    "version": 3
   },
   "file_extension": ".py",
   "mimetype": "text/x-python",
   "name": "python",
   "nbconvert_exporter": "python",
   "pygments_lexer": "ipython3",
   "version": "3.9.13"
  }
 },
 "nbformat": 4,
 "nbformat_minor": 5
}
