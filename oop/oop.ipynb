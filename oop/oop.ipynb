{
 "cells": [
  {
   "cell_type": "markdown",
   "id": "48c43a1c-d1b0-4b88-ab24-79375e17b5bf",
   "metadata": {},
   "source": [
    "#### Classes"
   ]
  },
  {
   "cell_type": "markdown",
   "id": "aaed3c5a-0b59-4589-9a6f-9b1c2030bfe2",
   "metadata": {},
   "source": [
    "A Python class is a blueprint for creating objects that share common attributes and behaviors. It encapsulates data and functions into a single unit, allowing for modular and reusable code. Objects of a class can be created using the class constructor and accessed using dot notation."
   ]
  },
  {
   "cell_type": "code",
   "execution_count": 3,
   "id": "b102cf33-f464-4052-9011-ad2591f297f3",
   "metadata": {},
   "outputs": [
    {
     "name": "stdout",
     "output_type": "stream",
     "text": [
      "My id is 1\n",
      "My id is 2\n"
     ]
    }
   ],
   "source": [
    "class Employee:\n",
    "    new_id = 1\n",
    "    \n",
    "    def __init__(self):\n",
    "        self.id = Employee.new_id \n",
    "        Employee.new_id += 1\n",
    "    \n",
    "    def say_id(self):\n",
    "        print(f\"My id is {self.id}\")\n",
    "\n",
    "e1 = Employee()\n",
    "e2 = Employee()\n",
    "e1.say_id()\n",
    "e2.say_id()"
   ]
  },
  {
   "cell_type": "markdown",
   "id": "4fca486b-53f6-49d3-830c-35e24b0045b4",
   "metadata": {},
   "source": [
    "#### OOP Pillar: Inheritance"
   ]
  },
  {
   "cell_type": "markdown",
   "id": "1161abf7-fd91-4d18-9a86-2dc63520fd37",
   "metadata": {},
   "source": [
    "Inheritance is one of the fundamental concepts in object-oriented programming (OOP) that allows a class to inherit properties and behaviors from another class. "
   ]
  },
  {
   "cell_type": "code",
   "execution_count": 5,
   "id": "3f145bce-112e-43f7-8e4c-8ace13cc2d55",
   "metadata": {},
   "outputs": [
    {
     "name": "stdout",
     "output_type": "stream",
     "text": [
      "My id is 3.\n"
     ]
    }
   ],
   "source": [
    "class Employee():\n",
    "    new_id = 1\n",
    "    def __init__(self):\n",
    "        self.id = Employee.new_id\n",
    "        Employee.new_id += 1\n",
    "    def say_id(self):\n",
    "        print(\"My id is {}.\".format(self.id))\n",
    "\n",
    "class Admin(Employee):\n",
    "    pass\n",
    "\n",
    "e1 = Employee()\n",
    "e2 = Employee()\n",
    "e3 = Admin()\n",
    "\n",
    "e3.say_id()"
   ]
  },
  {
   "cell_type": "markdown",
   "id": "ce78316e-159a-4834-931c-58f62c110f6c",
   "metadata": {},
   "source": [
    "#### Overriding Methods"
   ]
  },
  {
   "cell_type": "markdown",
   "id": "ec840c73-44d1-40c6-851a-9a7aaef5c194",
   "metadata": {},
   "source": [
    "When implementing inheritance, a child class may want to change the behavior of a method from its parent class. In Python, all we have to do is override a method definition. An overriding method in a subclass is one that has the same definition as the parent class but contains different behavior."
   ]
  },
  {
   "cell_type": "code",
   "execution_count": 7,
   "id": "95440a0c-fd55-4902-bf96-a88725f1715a",
   "metadata": {},
   "outputs": [
    {
     "name": "stdout",
     "output_type": "stream",
     "text": [
      "I am an Admin\n"
     ]
    }
   ],
   "source": [
    "class Employee():\n",
    "    new_id = 1\n",
    "    def __init__(self):\n",
    "        self.id = Employee.new_id\n",
    "        Employee.new_id += 1\n",
    "    def say_id(self):\n",
    "        print(\"My id is {}.\".format(self.id))\n",
    "\n",
    "class Admin(Employee):\n",
    "    def say_id(self):\n",
    "        print(\"I am an Admin\")\n",
    "\n",
    "e1 = Employee()\n",
    "e2 = Employee()\n",
    "e3 = Admin()\n",
    "e3.say_id()"
   ]
  },
  {
   "cell_type": "markdown",
   "id": "187ea1c6-6e25-4b9d-8e0c-2459b230f567",
   "metadata": {},
   "source": [
    "#### super()"
   ]
  },
  {
   "cell_type": "markdown",
   "id": "94dc2ad0-c360-4ac5-8bc3-d436b5d71020",
   "metadata": {},
   "source": [
    "When overriding methods we sometimes want to still access the behavior of the parent method. In order to do that we need a way to call the method of the parent class. Python gives us a way to do that using super().\n",
    "super() gives us a proxy object. With this proxy object, we can invoke the method of an object’s parent class (also called its superclass)."
   ]
  },
  {
   "cell_type": "code",
   "execution_count": 9,
   "id": "7123b9ec-6611-4a15-85ce-692a92396f42",
   "metadata": {},
   "outputs": [
    {
     "name": "stdout",
     "output_type": "stream",
     "text": [
      "Rachel says, Meow!\n"
     ]
    }
   ],
   "source": [
    "class Animal:\n",
    "    def __init__(self, name, sound=\"Grrrr\"):\n",
    "        self.name = name\n",
    "        self.sound = sound\n",
    "    \n",
    "    def make_noise(self):\n",
    "        print(\"{} says, {}\".format(self.name, self.sound))\n",
    "class Cat(Animal):\n",
    "    def __init__(self, name):\n",
    "        super().__init__(name, \"Meow!\") \n",
    "\n",
    "pet_cat = Cat(\"Rachel\")\n",
    "pet_cat.make_noise() "
   ]
  },
  {
   "cell_type": "code",
   "execution_count": 12,
   "id": "778bf407-cd0a-4163-8dc2-3e61308edd52",
   "metadata": {},
   "outputs": [
    {
     "name": "stdout",
     "output_type": "stream",
     "text": [
      "My id is 3.\n",
      "I am an admin.\n"
     ]
    }
   ],
   "source": [
    "class Employee():\n",
    "    new_id = 1\n",
    "    def __init__(self):\n",
    "        self.id = Employee.new_id\n",
    "        Employee.new_id += 1\n",
    "\n",
    "    def say_id(self):\n",
    "        print(\"My id is {}.\".format(self.id))\n",
    "\n",
    "class Admin(Employee):\n",
    "    def say_id(self):\n",
    "        super().say_id()\n",
    "        print(\"I am an admin.\")\n",
    "\n",
    "e1 = Employee()\n",
    "e2 = Employee()\n",
    "e3 = Admin()\n",
    "e3.say_id()"
   ]
  },
  {
   "cell_type": "markdown",
   "id": "d331b844-0b33-4b49-b8b9-e8c3dd435f98",
   "metadata": {},
   "source": [
    "#### Multiple Inheritance"
   ]
  },
  {
   "cell_type": "markdown",
   "id": "87933eec-0f16-476d-9cd3-679f21282fec",
   "metadata": {},
   "source": [
    "This is when a subclass inherits from more than one superclass. One form of multiple inheritance is when there are multiple levels of inheritance. This means a class inherits members from its superclass and its super-superclass."
   ]
  },
  {
   "cell_type": "code",
   "execution_count": 13,
   "id": "2b4b5c26-14bf-41b0-ae1e-cd1fd90a85fb",
   "metadata": {},
   "outputs": [
    {
     "name": "stdout",
     "output_type": "stream",
     "text": [
      "My id is 4.\n",
      "I am an admin.\n",
      "I am in charge!\n"
     ]
    }
   ],
   "source": [
    "class Employee():\n",
    "    new_id = 1\n",
    "    def __init__(self):\n",
    "        self.id = Employee.new_id\n",
    "        Employee.new_id += 1\n",
    "    def say_id(self):\n",
    "        print(\"My id is {}.\".format(self.id))\n",
    "\n",
    "class Admin(Employee):\n",
    "    def say_id(self):\n",
    "        super().say_id()\n",
    "        print(\"I am an admin.\")\n",
    "\n",
    "class Manager(Admin):\n",
    "    def say_id(self):\n",
    "        super().say_id()\n",
    "        print(\"I am in charge!\")\n",
    "\n",
    "\n",
    "e1 = Employee()\n",
    "e2 = Employee()\n",
    "e3 = Admin()\n",
    "e4 = Manager()\n",
    "e4.say_id()"
   ]
  },
  {
   "cell_type": "markdown",
   "id": "e5b8f1ec-ad3a-4b3d-a0bd-1071a935878b",
   "metadata": {},
   "source": [
    "Another form of multiple inhertance involves a subclass that inherits directly from two (and more) classes and can use the attributes and methods of both (or more)."
   ]
  },
  {
   "cell_type": "code",
   "execution_count": 17,
   "id": "3fa030d7-3b55-4955-b3cb-a66b08495d81",
   "metadata": {},
   "outputs": [
    {
     "name": "stdout",
     "output_type": "stream",
     "text": [
      "My username is 3\n",
      "My role is Admin\n"
     ]
    }
   ],
   "source": [
    "# The \"Employee\" class has a class variable \"new_id\" that starts at 1 and increments every time a new instance of the class is created. \n",
    "# The \"init\" method initializes each instance with a unique id and the \"say_id\" method prints out the instance's id.\n",
    "class Employee():\n",
    "    new_id = 1\n",
    "    def __init__(self):\n",
    "        self.id = Employee.new_id\n",
    "        Employee.new_id += 1\n",
    "    def say_id(self):\n",
    "        print(\"My id is {}.\".format(self.id))\n",
    "\n",
    "# The \"User\" class has an \"init\" method that initializes each instance with a username and a default role of \"Customer\", \n",
    "# and a \"say_user_info\" method that prints out the instance's username and role.        \n",
    "class User:\n",
    "    def __init__(self, username, role=\"Customer\"):\n",
    "        self.username = username\n",
    "        self.role = role\n",
    "    def say_user_info(self):\n",
    "        print(\"My username is {}\".format(self.username))\n",
    "        print(\"My role is {}\".format(self.role))\n",
    "\n",
    "# The \"Admin\" class inherits from both the \"Employee\" and \"User\" classes. \n",
    "# Its \"init\" method first calls the \"init\" method of the \"Employee\" class to give the instance a unique id, \n",
    "# and then calls the \"init\" method of the \"User\" class to set the instance's username and role to \"Admin\". \n",
    "# The \"say_id\" method of the \"Admin\" class first calls the \"say_id\" method of the \"Employee\" class to print out the instance's id, \n",
    "# and then adds a message saying that it is an admin.\n",
    "class Admin(Employee, User):\n",
    "    def __init__(self):\n",
    "        super().__init__()\n",
    "        User.__init__(self, self.id, \"Admin\")\n",
    "        \n",
    "    def say_id(self):\n",
    "        super().say_id()\n",
    "        print(\"I am an admin.\")\n",
    "\n",
    "e1 = Employee()\n",
    "e2 = Employee()\n",
    "e3 = Admin()\n",
    "e3.say_user_info()"
   ]
  },
  {
   "cell_type": "markdown",
   "id": "7fcbf923-7de5-4c6b-a9f4-f841832d98d4",
   "metadata": {},
   "source": [
    "#### OOP Pillar: Polymorphism"
   ]
  },
  {
   "cell_type": "markdown",
   "id": "6457f558-19af-4e46-b968-db4517de8cb8",
   "metadata": {},
   "source": [
    "In computer programming, polymorphism is the ability to apply an identical operation onto different types of objects. This can be useful when an object type may not be known at the program runtime. "
   ]
  },
  {
   "cell_type": "code",
   "execution_count": 2,
   "id": "59f69352-00dd-4234-b2fe-82feff41e802",
   "metadata": {},
   "outputs": [
    {
     "name": "stdout",
     "output_type": "stream",
     "text": [
      "My id is 1.\n",
      "My id is 2.\n",
      "I am an admin.\n",
      "My id is 3.\n",
      "I am an admin.\n",
      "I am in charge!\n"
     ]
    }
   ],
   "source": [
    "class Employee():\n",
    "    new_id = 1\n",
    "    def __init__(self):\n",
    "        self.id = Employee.new_id\n",
    "        Employee.new_id += 1\n",
    "\n",
    "    def say_id(self):\n",
    "        print(\"My id is {}.\".format(self.id))\n",
    "\n",
    "class Admin(Employee):\n",
    "    def say_id(self):\n",
    "        super().say_id()\n",
    "        print(\"I am an admin.\")\n",
    "\n",
    "class Manager(Admin):\n",
    "    def say_id(self):\n",
    "        super().say_id()\n",
    "        print(\"I am in charge!\")\n",
    "\n",
    "e1 = Employee()\n",
    "e2 = Admin()\n",
    "e3 = Manager()\n",
    "\n",
    "meeting = [e1, e2, e3]\n",
    "\n",
    "for obj in meeting:\n",
    "    obj.say_id()"
   ]
  },
  {
   "cell_type": "markdown",
   "id": "b57836db-0246-446d-bb89-0399b48d3d3c",
   "metadata": {},
   "source": [
    "#### Dunder Methods"
   ]
  },
  {
   "cell_type": "markdown",
   "id": "ac49649c-8fac-4735-ace6-c3a2afcaa299",
   "metadata": {},
   "source": [
    "https://www.section.io/engineering-education/dunder-methods-python/"
   ]
  },
  {
   "cell_type": "code",
   "execution_count": 6,
   "id": "5c3b54a8-3e13-40db-8f03-9b80df06851e",
   "metadata": {},
   "outputs": [
    {
     "name": "stdout",
     "output_type": "stream",
     "text": [
      "ID 1 added.\n",
      "ID 2 added.\n",
      "ID 3 added.\n",
      "3\n"
     ]
    }
   ],
   "source": [
    "class Employee():\n",
    "    new_id = 1\n",
    "    def __init__(self):\n",
    "        self.id = Employee.new_id\n",
    "        Employee.new_id += 1\n",
    "\n",
    "class Meeting:\n",
    "    def __init__(self):\n",
    "        self.attendees = []\n",
    "  \n",
    "    def __add__(self, employee):\n",
    "        print(\"ID {} added.\".format(employee.id))\n",
    "        self.attendees.append(employee)\n",
    "\n",
    "    def __len__(self):\n",
    "        return len(self.attendees)\n",
    "  \n",
    "    \n",
    "e1 = Employee()\n",
    "e2 = Employee()\n",
    "e3 = Employee()\n",
    "m1 = Meeting()\n",
    "m1 + e1\n",
    "m1 + e2\n",
    "m1 + e3\n",
    "print(len(m1))"
   ]
  },
  {
   "cell_type": "markdown",
   "id": "baa4b29c-991c-42d2-b416-807d5ca47919",
   "metadata": {},
   "source": [
    "#### OOP Pillar: Abstraction"
   ]
  },
  {
   "cell_type": "markdown",
   "id": "6de85d48-aed0-4797-8776-c4cc837a06cd",
   "metadata": {},
   "source": [
    "Abstraction helps with the design of code by defining necessary behaviors to be implemented within a class structure. By doing so, abstraction also helps avoid leaving out or overlapping class functionality as class hierarchies get larger."
   ]
  },
  {
   "cell_type": "code",
   "execution_count": 7,
   "id": "2fb9bb2f-70f9-4b36-846b-c82b74ed1508",
   "metadata": {},
   "outputs": [
    {
     "name": "stdout",
     "output_type": "stream",
     "text": [
      "1\n"
     ]
    }
   ],
   "source": [
    "from abc import ABC, abstractmethod\n",
    "\n",
    "class AbstractEmployee(ABC):\n",
    "    new_id = 1\n",
    "    def __init__(self):\n",
    "        self.id = AbstractEmployee.new_id\n",
    "        AbstractEmployee.new_id += 1\n",
    "\n",
    "    # The .say_id() method in the AbstractEmployee class uses the @abstractmethod decorator.\n",
    "    # This means any class that inherits from AbstractEmployee must implement a .say_id() method.\n",
    "    @abstractmethod\n",
    "    def say_id(self):\n",
    "        pass\n",
    "\n",
    "class Employee(AbstractEmployee):\n",
    "    def say_id(self):\n",
    "        print(self.id)\n",
    "\n",
    "e1 = Employee()\n",
    "e1.say_id()"
   ]
  },
  {
   "cell_type": "markdown",
   "id": "b324c766-52bd-4014-bdae-20f70f67d6ba",
   "metadata": {},
   "source": [
    "#### OOP Pillar: Encapsulation"
   ]
  },
  {
   "cell_type": "markdown",
   "id": "145f29a2-9033-472e-8880-fc7ed912bb7b",
   "metadata": {},
   "source": [
    "Encapsulation is the process of making methods and data hidden inside the object they relate to. Languages accomplish this with what are called access modifiers like:\n",
    "\n",
    "- Public\n",
    "- Protected\n",
    "- Private\n",
    "\n",
    "In general, **public** members can be accessed from anywhere, **protected** members can only be accessed from code within the same module and **private** members can only be accessed from code within the class that these members are defined.\n",
    "\n",
    "Python doesn’t have any inbuilt mechanism to prevent access from any member (i.e. all members are public in Python). However, there is a common convention amongst developers to use a single underscore self._x to indicate that a member is protected. Accessing a protected member outside of the module will not cause an error, it is added by developers to inform other developers that they should be careful when accessing this member in such a manner.\n",
    "\n",
    "Similarly, we can declare a member as private with two leading underscores self.__x. This is more than just a convention in Python because of a mechanism called name mangling. Members that are preceded with two underscores have their names modified in the background to obj._Classname__x. While they can still be publicly accessed, the purpose of this mechanism is to prevent clashing member names of any inheriting classes that might define a member of the same name."
   ]
  },
  {
   "cell_type": "code",
   "execution_count": 8,
   "id": "3008cb7d-745e-4a24-aceb-1b88dbf061d1",
   "metadata": {},
   "outputs": [
    {
     "name": "stdout",
     "output_type": "stream",
     "text": [
      "['_Employee__id', '__class__', '__delattr__', '__dict__', '__dir__', '__doc__', '__eq__', '__format__', '__ge__', '__getattribute__', '__gt__', '__hash__', '__init__', '__init_subclass__', '__le__', '__lt__', '__module__', '__ne__', '__new__', '__reduce__', '__reduce_ex__', '__repr__', '__setattr__', '__sizeof__', '__str__', '__subclasshook__', '__weakref__', '_id', 'id']\n"
     ]
    }
   ],
   "source": [
    "class Employee():\n",
    "    def __init__(self):\n",
    "        self.id = None\n",
    "        self._id = 1\n",
    "        self.__id = 2\n",
    "        \n",
    "\n",
    "e = Employee()\n",
    "print(dir(e))"
   ]
  },
  {
   "cell_type": "markdown",
   "id": "5a35a692-431d-4521-ba81-8f24b9061de9",
   "metadata": {},
   "source": [
    "#### Getters, Setters and Deleters"
   ]
  },
  {
   "cell_type": "markdown",
   "id": "1f52143a-a213-4064-b67c-a62f8d5a0798",
   "metadata": {},
   "source": [
    "Getters, setters, and deleters are methods in Python that allow us to control how attributes of a class are accessed, modified, and deleted. \n"
   ]
  },
  {
   "cell_type": "code",
   "execution_count": 9,
   "id": "54c508d9-1315-425d-81ad-7cf35065f316",
   "metadata": {},
   "outputs": [
    {
     "name": "stdout",
     "output_type": "stream",
     "text": [
      "Maisy\n"
     ]
    }
   ],
   "source": [
    "class Employee():\n",
    "    new_id = 1\n",
    "    def __init__(self, name=None):\n",
    "        self.id = Employee.new_id\n",
    "        Employee.new_id += 1\n",
    "        self._name = name\n",
    "\n",
    "    def get_name(self):\n",
    "        return self._name\n",
    "    \n",
    "    def set_name(self, new_name):\n",
    "        self._name = new_name\n",
    "    \n",
    "    def del_name(self):\n",
    "        del self._name\n",
    "\n",
    "e1 = Employee(\"Maisy\")\n",
    "e2 = Employee()\n",
    "\n",
    "e1 = Employee(\"Maisy\")\n",
    "e2 = Employee()\n",
    "print(e1.get_name())"
   ]
  },
  {
   "cell_type": "code",
   "execution_count": 23,
   "id": "60783840-d9c7-495d-b3c3-1e343e888593",
   "metadata": {},
   "outputs": [],
   "source": [
    "from abc import ABC, abstractmethod\n",
    "\n",
    "class AbstractEmployee(ABC):\n",
    "    new_id = 1\n",
    "    def __init__(self):\n",
    "        self.id = AbstractEmployee.new_id\n",
    "        AbstractEmployee.new_id += 1\n",
    "\n",
    "    @abstractmethod\n",
    "    def say_id(self):\n",
    "        pass\n",
    "\n",
    "class User:\n",
    "    def __init__(self):\n",
    "        self._username = None\n",
    "    \n",
    "    @property\n",
    "    def username(self):\n",
    "        return self._username\n",
    "    \n",
    "    @username.setter\n",
    "    def username(self, new_name):\n",
    "        self._username = new_name\n",
    "        \n",
    "class Meeting:\n",
    "    def __init__(self):\n",
    "        self.attendees = []\n",
    "    \n",
    "    def __add__(self, employee):\n",
    "        print(\"{} added.\".format(employee.username))\n",
    "        self.attendees.append(employee.username)\n",
    "    def __len__(self):\n",
    "        return len(self.attendees)\n",
    "\n",
    "class Employee(AbstractEmployee, User):\n",
    "    def __init__(self, username):\n",
    "        super().__init__()\n",
    "        User.__init__(self)\n",
    "        self.username = username\n",
    "\n",
    "    def say_id(self):\n",
    "        print(\"My id is {}\".format(self.id))\n",
    " \n",
    "    def say_username(self):\n",
    "        print(\"My username is {}\".format(self.username))"
   ]
  },
  {
   "cell_type": "code",
   "execution_count": 18,
   "id": "77be5d62-b24b-485c-a150-d4ddc990ac8b",
   "metadata": {},
   "outputs": [
    {
     "name": "stdout",
     "output_type": "stream",
     "text": [
      "John\n"
     ]
    }
   ],
   "source": [
    "# A getter method is used to retrieve the value of an attribute. It is defined using the \"@property\" decorator and has the same name as the attribute it retrieves. \n",
    "# For example:\n",
    "\n",
    "class Person:\n",
    "    def __init__(self, name):\n",
    "        self._name = name\n",
    "\n",
    "    @property\n",
    "    def name(self):\n",
    "        return self._name\n",
    "\n",
    "# In this example, the \"name\" attribute is accessed using the \"name\" method, which is decorated with \"@property\". \n",
    "# This allows us to access the attribute as if it were a regular property of the class, like this:\n",
    "\n",
    "p = Person(\"John\")\n",
    "print(p.name)  # Output: 'John'\n"
   ]
  },
  {
   "cell_type": "code",
   "execution_count": 21,
   "id": "89f4c7a1-f071-48bd-ae1d-3deca39a0995",
   "metadata": {},
   "outputs": [
    {
     "name": "stdout",
     "output_type": "stream",
     "text": [
      "Jane\n"
     ]
    }
   ],
   "source": [
    "# A setter method is used to modify the value of an attribute. It is defined using the \"@attribute.setter\" decorator and has the same name as the attribute it modifies. \n",
    "# For example:\n",
    "\n",
    "class Person:\n",
    "    def __init__(self, name):\n",
    "        self._name = name\n",
    "\n",
    "    @property\n",
    "    def name(self):\n",
    "        return self._name\n",
    "\n",
    "    @name.setter\n",
    "    def name(self, value):\n",
    "        self._name = value\n",
    "\n",
    "# In this example, the \"name\" attribute is modified using the \"name\" method, which is decorated with \"@name.setter\". \n",
    "# This allows us to modify the attribute as if it were a regular property of the class, like this:\n",
    "\n",
    "p = Person(\"John\")\n",
    "p.name = \"Jane\"\n",
    "print(p.name)  # Output: 'Jane'\n"
   ]
  },
  {
   "cell_type": "code",
   "execution_count": 22,
   "id": "c8805c77-b4ae-4642-b846-72a068e12034",
   "metadata": {},
   "outputs": [
    {
     "ename": "SyntaxError",
     "evalue": "invalid syntax (534970014.py, line 21)",
     "output_type": "error",
     "traceback": [
      "\u001b[1;36m  File \u001b[1;32m\"C:\\Users\\anaas\\AppData\\Local\\Temp\\ipykernel_14844\\534970014.py\"\u001b[1;36m, line \u001b[1;32m21\u001b[0m\n\u001b[1;33m    This allows us to delete the attribute as if it were a regular property of the class, like this:\u001b[0m\n\u001b[1;37m         ^\u001b[0m\n\u001b[1;31mSyntaxError\u001b[0m\u001b[1;31m:\u001b[0m invalid syntax\n"
     ]
    }
   ],
   "source": [
    "# A deleter method is used to delete an attribute. It is defined using the \"@attribute.deleter\" decorator and has the same name as the attribute it deletes. \n",
    "# For example:\n",
    "\n",
    "class Person:\n",
    "    def __init__(self, name):\n",
    "        self._name = name\n",
    "\n",
    "    @property\n",
    "    def name(self):\n",
    "        return self._name\n",
    "\n",
    "    @name.setter\n",
    "    def name(self, value):\n",
    "        self._name = value\n",
    "\n",
    "    @name.deleter\n",
    "    def name(self):\n",
    "        del self._name\n",
    "\n",
    "# In this example, the \"name\" attribute is deleted using the \"name\" method, which is decorated with \"@name.deleter\". \n",
    "This allows us to delete the attribute as if it were a regular property of the class, like this:\n",
    "\n",
    "p = Person(\"John\")\n",
    "del p.name\n",
    "print(p.name)  # Raises AttributeError: 'Person' object has no attribute '_name'"
   ]
  },
  {
   "cell_type": "markdown",
   "id": "dfabba2a-559e-4bf5-b85a-aeb13bc94f0a",
   "metadata": {},
   "source": [
    "#### Slots\n",
    "When we design a class, we can use slots to prevent the dynamic creation of attributes. To define slots, you have to define a list with the name __slots__. The list has to contain all the attributes, you want to use. We demonstrate this in the following class, in which the slots list contains only the name for an attribute \"val\"."
   ]
  },
  {
   "cell_type": "code",
   "execution_count": 1,
   "id": "faa5abb3-3576-4924-99d2-0932d83ac2c8",
   "metadata": {},
   "outputs": [
    {
     "name": "stdout",
     "output_type": "stream",
     "text": [
      "42\n"
     ]
    },
    {
     "ename": "AttributeError",
     "evalue": "'S' object has no attribute 'new'",
     "output_type": "error",
     "traceback": [
      "\u001b[1;31m---------------------------------------------------------------------------\u001b[0m",
      "\u001b[1;31mAttributeError\u001b[0m                            Traceback (most recent call last)",
      "\u001b[1;32m~\\AppData\\Local\\Temp\\ipykernel_12768\\3271835685.py\u001b[0m in \u001b[0;36m<module>\u001b[1;34m\u001b[0m\n\u001b[0;32m     10\u001b[0m \u001b[0mprint\u001b[0m\u001b[1;33m(\u001b[0m\u001b[0mx\u001b[0m\u001b[1;33m.\u001b[0m\u001b[0mval\u001b[0m\u001b[1;33m)\u001b[0m\u001b[1;33m\u001b[0m\u001b[1;33m\u001b[0m\u001b[0m\n\u001b[0;32m     11\u001b[0m \u001b[1;33m\u001b[0m\u001b[0m\n\u001b[1;32m---> 12\u001b[1;33m \u001b[0mx\u001b[0m\u001b[1;33m.\u001b[0m\u001b[0mnew\u001b[0m \u001b[1;33m=\u001b[0m \u001b[1;34m\"not possible\"\u001b[0m\u001b[1;33m\u001b[0m\u001b[1;33m\u001b[0m\u001b[0m\n\u001b[0m",
      "\u001b[1;31mAttributeError\u001b[0m: 'S' object has no attribute 'new'"
     ]
    }
   ],
   "source": [
    "class S(object):\n",
    "\n",
    "    __slots__ = ['val']\n",
    "\n",
    "    def __init__(self, v):\n",
    "        self.val = v\n",
    "\n",
    "\n",
    "x = S(42)\n",
    "print(x.val)\n",
    "\n",
    "x.new = \"not possible\""
   ]
  },
  {
   "cell_type": "code",
   "execution_count": null,
   "id": "57197cb1-dc75-45b7-9291-411034dcd851",
   "metadata": {},
   "outputs": [],
   "source": []
  }
 ],
 "metadata": {
  "kernelspec": {
   "display_name": "Python 3 (ipykernel)",
   "language": "python",
   "name": "python3"
  },
  "language_info": {
   "codemirror_mode": {
    "name": "ipython",
    "version": 3
   },
   "file_extension": ".py",
   "mimetype": "text/x-python",
   "name": "python",
   "nbconvert_exporter": "python",
   "pygments_lexer": "ipython3",
   "version": "3.9.13"
  }
 },
 "nbformat": 4,
 "nbformat_minor": 5
}
