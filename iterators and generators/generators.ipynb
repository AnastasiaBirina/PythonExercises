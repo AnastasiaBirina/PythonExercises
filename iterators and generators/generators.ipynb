{
 "cells": [
  {
   "cell_type": "markdown",
   "id": "d6f67a47-6a60-4599-aa20-7d3e01c60a24",
   "metadata": {},
   "source": [
    "In Python, a generator allows for the creation of iterators without having to implement __iter__() and __next__() methods. Generators improve code readability, save memory by allowing for iterative access of elements, and allow for the traversal of infinite streams of data.\n",
    "\n",
    "There are two types of generators in Python:\n",
    "\n",
    "- Generator functions\n",
    "\n",
    "- Generator Expressions\n",
    "\n",
    "Both of these return a generator object that can be looped over similar to a list, but unlike a list, the contents of the generator object are not stored in memory, allowing for complex and even infinite iteration of data."
   ]
  },
  {
   "cell_type": "markdown",
   "id": "ba4622d7-1914-41af-9e82-d1776bedfa97",
   "metadata": {},
   "source": [
    "#### yield vs return"
   ]
  },
  {
   "cell_type": "markdown",
   "id": "348dcfe4-edee-47a5-a1c8-a838f36d290c",
   "metadata": {},
   "source": [
    "Generator functions are similar to regular functions except that they must return an iterator. But instead of using a return statement, generator functions use an expression called yield.\n",
    "\n",
    "So how does yield differ from a return statement? Well, any code that is written after a yield expression will execute on the next iteration of the iterator. Code written after a return statement will not execute.\n",
    "Another key difference between yield and return is that the yield expression will suspend the execution of the function and preserve any local variables that exist within the function. The return statement will terminate the function immediately and return the result(s) to the caller.\n",
    "\n",
    "Like all objects, the iterator object returned by a generator function can be stored in a variable to be used later. It can then be iterated through as needed."
   ]
  },
  {
   "cell_type": "code",
   "execution_count": 1,
   "id": "04379105-8608-4186-bacd-68cfe703d03e",
   "metadata": {},
   "outputs": [
    {
     "name": "stdout",
     "output_type": "stream",
     "text": [
      "Freshman\n",
      "Sophomore\n",
      "Junior\n",
      "Senior\n"
     ]
    }
   ],
   "source": [
    "def class_standing_generator():\n",
    "    yield 'Freshman'\n",
    "    yield 'Sophomore'\n",
    "    yield 'Junior'\n",
    "    yield 'Senior'\n",
    "class_standings = class_standing_generator()\n",
    "\n",
    "for i in class_standings:\n",
    "    print(i)"
   ]
  },
  {
   "cell_type": "markdown",
   "id": "e847b012-aa3e-40cc-988d-88d9abdd6316",
   "metadata": {},
   "source": [
    "#### next() and StopIteration"
   ]
  },
  {
   "cell_type": "markdown",
   "id": "0c329294-90fa-4863-8037-bc76159e0d4b",
   "metadata": {},
   "source": [
    "Generator functions return an iterator object that contains traversable values. To retrieve the next value from a generator object, we can use the Python built-in function next() which will cause the generator function to resume its execution until the next yield expression is found. After the next yield expression is found, the function will pause execution again.\n",
    "\n",
    "If no additional yield expressions are found in a generator function, that means the code has finished and a StopIteration is raised.\n",
    "\n",
    "Generator functions are not limited to just single yield statements. They can also include loops where the yield occurs."
   ]
  },
  {
   "cell_type": "code",
   "execution_count": 3,
   "id": "85262a3c-1f50-4db3-9797-ed874fcd640e",
   "metadata": {},
   "outputs": [
    {
     "name": "stdout",
     "output_type": "stream",
     "text": [
      "500\n",
      "500\n"
     ]
    },
    {
     "ename": "StopIteration",
     "evalue": "",
     "output_type": "error",
     "traceback": [
      "\u001b[1;31m---------------------------------------------------------------------------\u001b[0m",
      "\u001b[1;31mStopIteration\u001b[0m                             Traceback (most recent call last)",
      "\u001b[1;32m~\\AppData\\Local\\Temp\\ipykernel_12328\\3358977509.py\u001b[0m in \u001b[0;36m<module>\u001b[1;34m\u001b[0m\n\u001b[0;32m      9\u001b[0m \u001b[0mprint\u001b[0m\u001b[1;33m(\u001b[0m\u001b[0mnext\u001b[0m\u001b[1;33m(\u001b[0m\u001b[0mstanding_values\u001b[0m\u001b[1;33m)\u001b[0m\u001b[1;33m)\u001b[0m\u001b[1;33m\u001b[0m\u001b[1;33m\u001b[0m\u001b[0m\n\u001b[0;32m     10\u001b[0m \u001b[0mprint\u001b[0m\u001b[1;33m(\u001b[0m\u001b[0mnext\u001b[0m\u001b[1;33m(\u001b[0m\u001b[0mstanding_values\u001b[0m\u001b[1;33m)\u001b[0m\u001b[1;33m)\u001b[0m\u001b[1;33m\u001b[0m\u001b[1;33m\u001b[0m\u001b[0m\n\u001b[1;32m---> 11\u001b[1;33m \u001b[0mprint\u001b[0m\u001b[1;33m(\u001b[0m\u001b[0mnext\u001b[0m\u001b[1;33m(\u001b[0m\u001b[0mstanding_values\u001b[0m\u001b[1;33m)\u001b[0m\u001b[1;33m)\u001b[0m\u001b[1;33m\u001b[0m\u001b[1;33m\u001b[0m\u001b[0m\n\u001b[0m",
      "\u001b[1;31mStopIteration\u001b[0m: "
     ]
    }
   ],
   "source": [
    "def student_standing_generator():\n",
    "    student_standings = ['Freshman','Senior', 'Junior', 'Freshman']\n",
    "    for st in student_standings:\n",
    "        if st == 'Freshman':\n",
    "            yield 500\n",
    "\n",
    "standing_values = student_standing_generator()\n",
    "\n",
    "print(next(standing_values))\n",
    "print(next(standing_values))\n",
    "print(next(standing_values))"
   ]
  },
  {
   "cell_type": "markdown",
   "id": "7e41f10b-d779-40b6-a8da-bfefa9690098",
   "metadata": {},
   "source": [
    "#### Generator Expressions"
   ]
  },
  {
   "cell_type": "code",
   "execution_count": 6,
   "id": "8c59d53d-8cf7-4a77-8b23-3df33541d062",
   "metadata": {},
   "outputs": [
    {
     "name": "stdout",
     "output_type": "stream",
     "text": [
      "Computer Science 1\n",
      "Computer Science 2\n",
      "Computer Science 3\n",
      "Computer Science 4\n"
     ]
    }
   ],
   "source": [
    "def cs_generator():\n",
    "    for i in range(1,5):\n",
    "        yield \"Computer Science \" + str(i)\n",
    "\n",
    "cs_courses = cs_generator()\n",
    "\n",
    "for i in cs_courses:\n",
    "    print(i)"
   ]
  },
  {
   "cell_type": "code",
   "execution_count": 5,
   "id": "d077e8db-ec91-4c98-9980-44cb669f9398",
   "metadata": {},
   "outputs": [
    {
     "name": "stdout",
     "output_type": "stream",
     "text": [
      "Computer Science 1\n",
      "Computer Science 2\n",
      "Computer Science 3\n",
      "Computer Science 4\n"
     ]
    }
   ],
   "source": [
    "cs_generator_exp = (\"Computer Science \" + str(i) for i in range(1, 5))\n",
    "for i in cs_generator_exp:\n",
    "    print(i)"
   ]
  },
  {
   "cell_type": "code",
   "execution_count": 7,
   "id": "2715a27f-c8a2-4853-b402-1570bca5ff24",
   "metadata": {},
   "outputs": [
    {
     "name": "stdout",
     "output_type": "stream",
     "text": [
      "[0, 1, 4, 9]\n"
     ]
    }
   ],
   "source": [
    "a_list = [i*i for i in range(4)]\n",
    "print(a_list)"
   ]
  },
  {
   "cell_type": "markdown",
   "id": "a04beaf9-f0e8-4137-967c-332231e013ed",
   "metadata": {},
   "source": [
    "#### Generator Methods: send()"
   ]
  },
  {
   "cell_type": "markdown",
   "id": "aa0ebb28-fcaf-4cdf-a368-9ce328a33a98",
   "metadata": {},
   "source": [
    "The .send() method allows us to send a value to a generator using the yield expression. If you assign yield to a variable the argument passed to the .send() method will be assigned to that variable. Calling .send() will also cause the generator to perform an iteration."
   ]
  },
  {
   "cell_type": "code",
   "execution_count": null,
   "id": "4c896aee-56a5-46c8-b044-8b3232c65a88",
   "metadata": {},
   "outputs": [],
   "source": []
  },
  {
   "cell_type": "code",
   "execution_count": null,
   "id": "4a0c1819-3979-4d43-b514-387e5ff1c810",
   "metadata": {},
   "outputs": [],
   "source": []
  },
  {
   "cell_type": "code",
   "execution_count": null,
   "id": "891eb26b-38c5-42f8-a800-b98d44752124",
   "metadata": {},
   "outputs": [],
   "source": []
  },
  {
   "cell_type": "code",
   "execution_count": null,
   "id": "12b09d35-9699-42d1-a839-97981143101a",
   "metadata": {},
   "outputs": [],
   "source": []
  },
  {
   "cell_type": "code",
   "execution_count": null,
   "id": "b3553aef-a053-4f67-ac19-e5a1284446b9",
   "metadata": {},
   "outputs": [],
   "source": []
  },
  {
   "cell_type": "code",
   "execution_count": null,
   "id": "5bfc3ff6-5ea2-4c79-9273-0d39c898db51",
   "metadata": {},
   "outputs": [],
   "source": []
  },
  {
   "cell_type": "code",
   "execution_count": null,
   "id": "f03029f1-d350-413b-841c-ed00088f6b55",
   "metadata": {},
   "outputs": [],
   "source": []
  }
 ],
 "metadata": {
  "kernelspec": {
   "display_name": "Python 3 (ipykernel)",
   "language": "python",
   "name": "python3"
  },
  "language_info": {
   "codemirror_mode": {
    "name": "ipython",
    "version": 3
   },
   "file_extension": ".py",
   "mimetype": "text/x-python",
   "name": "python",
   "nbconvert_exporter": "python",
   "pygments_lexer": "ipython3",
   "version": "3.9.13"
  }
 },
 "nbformat": 4,
 "nbformat_minor": 5
}
