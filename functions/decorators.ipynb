{
 "cells": [
  {
   "cell_type": "markdown",
   "id": "bdc07f93-eda1-44b2-a9bc-f8e96631b214",
   "metadata": {},
   "source": [
    "https://tproger.ru/translations/demystifying-decorators-in-python/"
   ]
  },
  {
   "cell_type": "code",
   "execution_count": 5,
   "id": "6437b324-3115-4e1d-a961-5ca02f268a37",
   "metadata": {},
   "outputs": [
    {
     "name": "stdout",
     "output_type": "stream",
     "text": [
      "<class 'function'>\n"
     ]
    }
   ],
   "source": [
    "def func():\n",
    "    print('hi')\n",
    "print(type(func))"
   ]
  },
  {
   "cell_type": "code",
   "execution_count": 6,
   "id": "cf734d50-e112-4e8c-9edc-fcd3cf2c5182",
   "metadata": {},
   "outputs": [
    {
     "name": "stdout",
     "output_type": "stream",
     "text": [
      "<class 'int'>\n"
     ]
    }
   ],
   "source": [
    "a = 5\n",
    "print(type(a))"
   ]
  },
  {
   "cell_type": "code",
   "execution_count": 7,
   "id": "79245114-7271-4849-8a7f-f87e4e6cd65b",
   "metadata": {},
   "outputs": [
    {
     "name": "stdout",
     "output_type": "stream",
     "text": [
      "hi\n"
     ]
    }
   ],
   "source": [
    "func1 = func\n",
    "func1()"
   ]
  },
  {
   "cell_type": "markdown",
   "id": "d4fd54b5-6e02-471b-bd9b-2c9f68f2bce4",
   "metadata": {},
   "source": [
    "Декоратор — это функция, которая позволяет обернуть другую функцию для расширения её функциональности без непосредственного изменения её кода."
   ]
  },
  {
   "cell_type": "code",
   "execution_count": 25,
   "id": "6b2f15ca-ec89-4b2c-aeb7-dd644915cee2",
   "metadata": {},
   "outputs": [],
   "source": [
    "import time\n",
    "\n",
    "def decorator(func):\n",
    "    def wrapper():\n",
    "        start = time.time()\n",
    "        func()\n",
    "        finish = time.time()\n",
    "        print(f'time of {func} working: {finish - start}')\n",
    "    return wrapper"
   ]
  },
  {
   "cell_type": "code",
   "execution_count": 44,
   "id": "bfe12e98-69af-4593-8c9e-30c0c06fdbce",
   "metadata": {},
   "outputs": [],
   "source": [
    "@decorator\n",
    "def my_func():\n",
    "    sum = 0\n",
    "    for i in range(100000):\n",
    "        sum += i\n",
    "    print(sum)"
   ]
  },
  {
   "cell_type": "code",
   "execution_count": 45,
   "id": "e2b63fc2-e2a8-47bd-979f-44f063630dc6",
   "metadata": {},
   "outputs": [
    {
     "name": "stdout",
     "output_type": "stream",
     "text": [
      "4999950000\n",
      "time of <function my_func at 0x000001F7BB9C5310> working: 0.004656553268432617\n"
     ]
    }
   ],
   "source": [
    "my_func()"
   ]
  },
  {
   "cell_type": "markdown",
   "id": "782eeda6-6ce5-4253-81f8-2551f4ff7a2c",
   "metadata": {
    "tags": []
   },
   "source": [
    "#### Используем аргументы и возвращаем значения"
   ]
  },
  {
   "cell_type": "code",
   "execution_count": 46,
   "id": "948c105a-7507-42fa-8122-0ae56ebf1f8c",
   "metadata": {},
   "outputs": [],
   "source": [
    "import time\n",
    "\n",
    "def decorator1(func):\n",
    "    def wrapper(*args, **kwargs):\n",
    "        start = time.time()\n",
    "        func(*args, **kwargs)\n",
    "        finish = time.time()\n",
    "        print(f'time of {func} working: {finish - start}')\n",
    "    return wrapper"
   ]
  },
  {
   "cell_type": "code",
   "execution_count": 47,
   "id": "72d83142-0c6c-482e-a317-221d6039f2e0",
   "metadata": {},
   "outputs": [],
   "source": [
    "@decorator1\n",
    "def my_func1(x):\n",
    "    sum = 0\n",
    "    for i in range(x):\n",
    "        sum += i\n",
    "    print(sum)"
   ]
  },
  {
   "cell_type": "code",
   "execution_count": 48,
   "id": "68f6bce7-1d21-492c-8483-425e105652fd",
   "metadata": {},
   "outputs": [
    {
     "name": "stdout",
     "output_type": "stream",
     "text": [
      "499500\n",
      "time of <function my_func1 at 0x000001F7BBAA3B80> working: 0.0009999275207519531\n"
     ]
    }
   ],
   "source": [
    "my_func1(1000)"
   ]
  },
  {
   "cell_type": "markdown",
   "id": "9e73c522-ffa5-4b23-b8bc-e6c2d97e5601",
   "metadata": {},
   "source": [
    "#### Декораторы с аргументами"
   ]
  },
  {
   "cell_type": "markdown",
   "id": "6c9b82b4-2650-475c-a507-aef0a864109d",
   "metadata": {},
   "source": [
    "Функция decorator_avg() на первый взгляд может показаться декоратором, но на самом деле таковым не является. Это обычная функция, которая принимает аргумент iters, а затем возвращает декоратор. В свою очередь, он декорирует функцию my_func2(). Поэтому мы использовали не выражение @decorator_avg, а @decorator_avg(iters=10) — это означает, что тут вызывается функция decorator_avg() (функция со скобками после неё обозначает вызов функции), после чего она возвращает сам декоратор.\n",
    "\n",
    "*Декоратор принимает функцию в качестве аргумента и возвращает функцию.*"
   ]
  },
  {
   "cell_type": "code",
   "execution_count": 59,
   "id": "1d3fd500-3e7e-4a39-89e3-2069ed944d77",
   "metadata": {},
   "outputs": [
    {
     "name": "stdout",
     "output_type": "stream",
     "text": [
      "time of <function my_func2 at 0x000001F7BCD454C0> working: 0.00039997100830078123\n",
      "49995000\n"
     ]
    }
   ],
   "source": [
    "def decorator_avg(iters):\n",
    "    def decorator(func):\n",
    "        def wrapper(*args, **kwargs):\n",
    "            total = 0\n",
    "            for i in range(iters):\n",
    "                start = time.time()\n",
    "                return_func = func(*args, **kwargs)\n",
    "                finish = time.time()\n",
    "                total += finish - start\n",
    "            print(f'time of {func} working: {total / iters}')\n",
    "            return return_func\n",
    "        return wrapper\n",
    "    return decorator\n",
    "\n",
    "\n",
    "@decorator_avg(10)\n",
    "def my_func2(x):\n",
    "    sum = 0\n",
    "    for i in range(x):\n",
    "        sum += i\n",
    "    return sum\n",
    "\n",
    "print(my_func2(10000))"
   ]
  },
  {
   "cell_type": "markdown",
   "id": "4e64a85f-d7df-4781-9556-4dcdc5da2363",
   "metadata": {},
   "source": [
    "#### Объекты-декораторы"
   ]
  },
  {
   "cell_type": "markdown",
   "id": "ca1f3482-7323-4179-8ee3-1b23551d597b",
   "metadata": {},
   "source": [
    "Экземпляры классов/объекты с методом __call__() тоже можно вызывать, поэтому их можно использовать в качестве декораторов. Эту функциональность можно использовать для создания декораторов, хранящих какое-то состояние."
   ]
  },
  {
   "cell_type": "markdown",
   "id": "609bbf89-cf16-47a5-a479-6b6907a5ad40",
   "metadata": {},
   "source": [
    "In this example, Decorator is a callable object that takes a function as an argument in its constructor. When my_func is decorated with @Decorator, it creates an instance of Decorator with my_func as the argument. When my_func is called, it is actually calling the __call__ method of the Decorator instance, which prints a message before and after executing the decorated function. The result of the decorated function is then returned as usual."
   ]
  },
  {
   "cell_type": "code",
   "execution_count": 63,
   "id": "68f0086f-345c-4814-b812-9fa7622c2d53",
   "metadata": {},
   "outputs": [
    {
     "name": "stdout",
     "output_type": "stream",
     "text": [
      "Before function execution\n",
      "After function execution\n",
      "50\n"
     ]
    }
   ],
   "source": [
    "class Decorator:\n",
    "    def __init__(self, func):\n",
    "        self.func = func\n",
    "\n",
    "    def __call__(self, *args, **kwargs):\n",
    "        print(\"Before function execution\")\n",
    "        result = self.func(*args, **kwargs)\n",
    "        print(\"After function execution\")\n",
    "        return result\n",
    "\n",
    "@Decorator\n",
    "def my_func(x):\n",
    "    return x * 10\n",
    "\n",
    "print(my_func(5))"
   ]
  }
 ],
 "metadata": {
  "kernelspec": {
   "display_name": "Python 3 (ipykernel)",
   "language": "python",
   "name": "python3"
  },
  "language_info": {
   "codemirror_mode": {
    "name": "ipython",
    "version": 3
   },
   "file_extension": ".py",
   "mimetype": "text/x-python",
   "name": "python",
   "nbconvert_exporter": "python",
   "pygments_lexer": "ipython3",
   "version": "3.9.13"
  }
 },
 "nbformat": 4,
 "nbformat_minor": 5
}
