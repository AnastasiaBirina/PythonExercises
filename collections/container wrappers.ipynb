{
 "cells": [
  {
   "cell_type": "markdown",
   "id": "557687ba-4791-48be-b073-370bafbb9c04",
   "metadata": {},
   "source": [
    "#### UserDict"
   ]
  },
  {
   "cell_type": "code",
   "execution_count": 1,
   "id": "60bed769-4d13-4e35-947e-90940a12747f",
   "metadata": {},
   "outputs": [
    {
     "name": "stdout",
     "output_type": "stream",
     "text": [
      "{'order_4829': {'type': 't-shirt', 'size': 'large', 'price': 9.99, 'order_status': 'processing'}, 'order_7378': {'type': 'jacket', 'size': 'large', 'price': 24.99, 'order_status': 'processing'}}\n"
     ]
    }
   ],
   "source": [
    "from collections import UserDict\n",
    "data = {'order_4829': {'type': 't-shirt', 'size': 'large', 'price': 9.99, 'order_status': 'processing'},\n",
    "        'order_6184': {'type': 'pants', 'size': 'medium', 'price': 14.99, 'order_status': 'complete'},\n",
    "        'order_2905': {'type': 'shoes', 'size': 12, 'price': 22.50, 'order_status': 'complete'},\n",
    "        'order_7378': {'type': 'jacket', 'size': 'large', 'price': 24.99, 'order_status': 'processing'}}\n",
    "\n",
    "class OrderProcessingDict(UserDict):\n",
    "    def clean_orders(self):\n",
    "        deleted_items = []\n",
    "    \n",
    "        for i in self.keys():\n",
    "            if self.data[i]['order_status'] == 'complete':\n",
    "                deleted_items.append(i)\n",
    "\n",
    "        for j in deleted_items:\n",
    "            del self.data[j]\n",
    "\n",
    "process_dict = OrderProcessingDict(data)\n",
    "process_dict.clean_orders()\n",
    "print(process_dict)"
   ]
  },
  {
   "cell_type": "markdown",
   "id": "94fa2cd0-1df8-4adf-8400-2885cdfb94d5",
   "metadata": {},
   "source": [
    "#### UserList"
   ]
  },
  {
   "cell_type": "code",
   "execution_count": 2,
   "id": "f6daa48f-2c4d-4036-918f-934bbf13d8c3",
   "metadata": {},
   "outputs": [
    {
     "name": "stdout",
     "output_type": "stream",
     "text": [
      "[0, 1, 2, 2, 3, 4, 5, 6, 7, 8, 9]\n"
     ]
    }
   ],
   "source": [
    "from collections import UserList\n",
    "data = [4, 6, 8, 9, 2, 5, 7, 3, 1, 0]\n",
    "\n",
    "class ListSorter(UserList):\n",
    "\n",
    "    def append(self, item):\n",
    "        self.data.append(item)\n",
    "        self.data.sort()\n",
    "\n",
    "sorted_list = ListSorter(data)\n",
    "sorted_list.append(2)\n",
    "print(sorted_list)"
   ]
  },
  {
   "cell_type": "markdown",
   "id": "820deab1-b2c9-4279-ab89-a17b1c711079",
   "metadata": {},
   "source": [
    "#### UserString"
   ]
  },
  {
   "cell_type": "code",
   "execution_count": 3,
   "id": "2d0ebc51-faf1-4d85-89dc-c0297bec1d85",
   "metadata": {},
   "outputs": [
    {
     "name": "stdout",
     "output_type": "stream",
     "text": [
      "python powered products\n"
     ]
    }
   ],
   "source": [
    "from collections import UserString\n",
    "str_name = 'python powered patterned products'\n",
    "str_word = 'patterned '\n",
    "\n",
    "class SubtractString(UserString):\n",
    "    def __sub__(self, other):\n",
    "        if other in self.data:\n",
    "            self.data = self.data.replace(other, '')\n",
    "\n",
    "subtract_string = SubtractString(str_name)\n",
    "subtract_string - str_word\n",
    "print(subtract_string)"
   ]
  }
 ],
 "metadata": {
  "kernelspec": {
   "display_name": "Python 3 (ipykernel)",
   "language": "python",
   "name": "python3"
  },
  "language_info": {
   "codemirror_mode": {
    "name": "ipython",
    "version": 3
   },
   "file_extension": ".py",
   "mimetype": "text/x-python",
   "name": "python",
   "nbconvert_exporter": "python",
   "pygments_lexer": "ipython3",
   "version": "3.9.13"
  }
 },
 "nbformat": 4,
 "nbformat_minor": 5
}
