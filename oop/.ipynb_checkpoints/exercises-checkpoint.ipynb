{
 "cells": [
  {
   "cell_type": "markdown",
   "id": "101b424e-3161-4702-8ce0-828209d24edb",
   "metadata": {},
   "source": [
    "1. Создайте класс Soda (для определения типа газированной воды), принимающий 1 аргумент при инициализации (отвечающий за добавку к выбираемому лимонаду). \n",
    "В этом классе реализуйте метод show_my_drink(), выводящий на печать «Газировка и {ДОБАВКА}» в случае наличия добавки, а иначе отобразится следующая фраза: «Обычная газировка»."
   ]
  },
  {
   "cell_type": "code",
   "execution_count": 17,
   "id": "ae649519-0b0b-44a4-812b-6ccb5fc6a7bd",
   "metadata": {},
   "outputs": [],
   "source": [
    "class Soda():\n",
    "    def __init__(self, ingridient = None):\n",
    "        self.ingridient = ingridient\n",
    "    def show_my_drink(self):\n",
    "         print(\"Обычная газировка\") if self.ingridient is None or not isinstance(self.ingridient, str) else print(\"Газировка и\", self.ingridient)"
   ]
  },
  {
   "cell_type": "code",
   "execution_count": 18,
   "id": "cf72f5cf-a5ad-4fd1-8250-6c935ae40075",
   "metadata": {},
   "outputs": [
    {
     "name": "stdout",
     "output_type": "stream",
     "text": [
      "Обычная газировка\n",
      "Газировка и малина\n",
      "Обычная газировка\n"
     ]
    }
   ],
   "source": [
    "# Тесты\n",
    "drink1 = Soda()\n",
    "drink2 = Soda('малина')\n",
    "drink3 = Soda(5)\n",
    "drink1.show_my_drink()\n",
    "drink2.show_my_drink()\n",
    "drink3.show_my_drink()"
   ]
  },
  {
   "cell_type": "markdown",
   "id": "4cd08f12-bb7d-479f-9b2f-42b80d4e398d",
   "metadata": {},
   "source": [
    "Евгения создала класс KgToPounds с параметром kg, куда передается определенное количество килограмм, а с помощью метода to_pounds() они переводятся в фунты. Чтобы закрыть доступ к переменной “kg” она реализовала методы set_kg() - для задания нового значения килограммов, get_kg()  - для вывода текущего значения кг. Из-за этого возникло неудобство: нам нужно теперь использовать эти 2 метода для задания и вывода значений. Помогите ей переделать класс с использованием функции property() и свойств-декораторов. Код приведен ниже.\n",
    "\n",
    "class KgToPounds:\n",
    "\n",
    "    def __init__(self, kg):\n",
    "        self.__kg = kg\n",
    "\n",
    "    def to_pounds(self):\n",
    "        return self.__kg * 2.205\n",
    "\n",
    "    def set_kg(self, new_kg):\n",
    "        if isinstance(new_kg, (int, float)):\n",
    "            self.__kg = new_kg\n",
    "        else:\n",
    "            raise ValueError('Килограммы задаются только числами')\n",
    "    \n",
    "    def get_kg(self):\n",
    "        return self.__kg"
   ]
  },
  {
   "cell_type": "code",
   "execution_count": null,
   "id": "72e135c4-9f39-4f0a-9b02-9f7f4b46a199",
   "metadata": {},
   "outputs": [],
   "source": []
  },
  {
   "cell_type": "code",
   "execution_count": null,
   "id": "6d3f59de-c009-4d83-bdf8-882d2b5deb62",
   "metadata": {},
   "outputs": [],
   "source": []
  },
  {
   "cell_type": "code",
   "execution_count": null,
   "id": "177a487b-1b1d-4ce8-8c6a-c5822f5bbae7",
   "metadata": {},
   "outputs": [],
   "source": []
  }
 ],
 "metadata": {
  "kernelspec": {
   "display_name": "Python 3 (ipykernel)",
   "language": "python",
   "name": "python3"
  },
  "language_info": {
   "codemirror_mode": {
    "name": "ipython",
    "version": 3
   },
   "file_extension": ".py",
   "mimetype": "text/x-python",
   "name": "python",
   "nbconvert_exporter": "python",
   "pygments_lexer": "ipython3",
   "version": "3.9.13"
  }
 },
 "nbformat": 4,
 "nbformat_minor": 5
}
