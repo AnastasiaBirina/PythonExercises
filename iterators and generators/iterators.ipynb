{
 "cells": [
  {
   "cell_type": "markdown",
   "id": "37afa19a-376b-4026-adf3-016530bf5b41",
   "metadata": {},
   "source": [
    "#### Iterator Objects: __iter__() and iter()"
   ]
  },
  {
   "cell_type": "markdown",
   "id": "b7e30d4e-b359-4fd0-9a8a-95924068e162",
   "metadata": {},
   "source": [
    "An iterator object is a special object that represents a stream of data that we can operate on. To accomplish this, it uses a built-in function called iter(). the __iter__() method simply returns the iterator object that allows us to iterate over the iterable."
   ]
  },
  {
   "cell_type": "code",
   "execution_count": 1,
   "id": "53054540-9d8b-4acc-9470-e8dd9ee6b0fc",
   "metadata": {},
   "outputs": [
    {
     "name": "stdout",
     "output_type": "stream",
     "text": [
      "['__add__', '__class__', '__class_getitem__', '__contains__', '__delattr__', '__delitem__', '__dir__', '__doc__', '__eq__', '__format__', '__ge__', '__getattribute__', '__getitem__', '__gt__', '__hash__', '__iadd__', '__imul__', '__init__', '__init_subclass__', '__iter__', '__le__', '__len__', '__lt__', '__mul__', '__ne__', '__new__', '__reduce__', '__reduce_ex__', '__repr__', '__reversed__', '__rmul__', '__setattr__', '__setitem__', '__sizeof__', '__str__', '__subclasshook__', 'append', 'clear', 'copy', 'count', 'extend', 'index', 'insert', 'pop', 'remove', 'reverse', 'sort']\n",
      "\n",
      "<list_iterator object at 0x000001445A180520>\n",
      "\n",
      "<list_iterator object at 0x000001445A179850>\n"
     ]
    }
   ],
   "source": [
    "sku_list = [7046538, 8289407, 9056375, 2308597]\n",
    "\n",
    "print(dir(sku_list))\n",
    "sku_iterator_object_one = sku_list.__iter__()\n",
    "print() \n",
    "print(sku_iterator_object_one)\n",
    "\n",
    "sku_iterator_object_two = iter(sku_list)\n",
    "print() \n",
    "print(sku_iterator_object_two)"
   ]
  },
  {
   "cell_type": "markdown",
   "id": "a26da1c5-8c72-4ac6-9a2d-cfaed9b22731",
   "metadata": {},
   "source": [
    "#### Iterator Objects:__next__() and next()"
   ]
  },
  {
   "cell_type": "markdown",
   "id": "739b742b-d490-4766-97ef-cfb7120e6964",
   "metadata": {},
   "source": [
    "The next() function in Python is used to retrieve the next item from an iterable object such as a list or a tuple. It takes one argument, which is the iterator object that we want to retrieve the next item from. When there are no more items to retrieve, it raises the StopIteration exception."
   ]
  },
  {
   "cell_type": "code",
   "execution_count": 2,
   "id": "61d01de3-0555-4c54-9217-490c9e4c646d",
   "metadata": {},
   "outputs": [
    {
     "name": "stdout",
     "output_type": "stream",
     "text": [
      "Great Dane Foods\n",
      "Min Pip Pup Foods\n",
      "Pawsome Pup Foods\n"
     ]
    },
    {
     "ename": "StopIteration",
     "evalue": "",
     "output_type": "error",
     "traceback": [
      "\u001b[1;31m---------------------------------------------------------------------------\u001b[0m",
      "\u001b[1;31mStopIteration\u001b[0m                             Traceback (most recent call last)",
      "\u001b[1;32m~\\AppData\\Local\\Temp\\ipykernel_13024\\1570144979.py\u001b[0m in \u001b[0;36m<module>\u001b[1;34m\u001b[0m\n\u001b[0;32m     13\u001b[0m \u001b[0mprint\u001b[0m\u001b[1;33m(\u001b[0m\u001b[0mnext_dog_food2\u001b[0m\u001b[1;33m)\u001b[0m\u001b[1;33m\u001b[0m\u001b[1;33m\u001b[0m\u001b[0m\n\u001b[0;32m     14\u001b[0m \u001b[0mprint\u001b[0m\u001b[1;33m(\u001b[0m\u001b[0mnext_dog_food3\u001b[0m\u001b[1;33m)\u001b[0m\u001b[1;33m\u001b[0m\u001b[1;33m\u001b[0m\u001b[0m\n\u001b[1;32m---> 15\u001b[1;33m \u001b[0mnext\u001b[0m\u001b[1;33m(\u001b[0m\u001b[0mdog_food_iterator\u001b[0m\u001b[1;33m)\u001b[0m\u001b[1;33m\u001b[0m\u001b[1;33m\u001b[0m\u001b[0m\n\u001b[0m",
      "\u001b[1;31mStopIteration\u001b[0m: "
     ]
    }
   ],
   "source": [
    "dog_foods = {\n",
    "  \"Great Dane Foods\": 4,\n",
    "  \"Min Pip Pup Foods\": 10,\n",
    "  \"Pawsome Pup Foods\": 8\n",
    "}\n",
    "\n",
    "dog_food_iterator = iter(dog_foods)\n",
    "next_dog_food1 = next(dog_food_iterator )\n",
    "print(next_dog_food1)\n",
    "\n",
    "next_dog_food2 = dog_food_iterator.__next__()\n",
    "next_dog_food3 = dog_food_iterator.__next__()\n",
    "print(next_dog_food2)\n",
    "print(next_dog_food3)\n",
    "next(dog_food_iterator)"
   ]
  },
  {
   "cell_type": "markdown",
   "id": "7ce56e5c-9bf1-426c-8243-36483f35e813",
   "metadata": {},
   "source": [
    "#### Iterators and For Loops"
   ]
  },
  {
   "cell_type": "markdown",
   "id": "058f6881-40a3-4d1e-90ed-7c5d6b34f970",
   "metadata": {},
   "source": [
    "To summarize, the three main steps are:\n",
    "\n",
    "1. The for loop will first retrieve an iterator object for the dog_foods dictionary using iter().\n",
    "\n",
    "2. Then, next() is called on each iteration of the for loop to retrieve the next value. This value is set to the for loop’s variable, food_brand.\n",
    "\n",
    "3. On each for loop iteration, the print statement is executed, until finally, the for loop executes a call to next() that raises the StopIteration exception. The for loop then exits and is finished iterating."
   ]
  },
  {
   "cell_type": "code",
   "execution_count": 4,
   "id": "fb1ef140-5140-42e6-8282-82ea736ee0a2",
   "metadata": {},
   "outputs": [
    {
     "name": "stdout",
     "output_type": "stream",
     "text": [
      "Great Dane Foods has 4 bags\n",
      "Min Pip Pup Foods has 10 bags\n",
      "Pawsome Pup Foods has 8 bags\n"
     ]
    }
   ],
   "source": [
    "dog_foods = {\n",
    "  \"Great Dane Foods\": 4,\n",
    "  \"Min Pip Pup Foods\": 10,\n",
    "  \"Pawsome Pup Foods\": 8\n",
    "}\n",
    "for food_brand in dog_foods:\n",
    "    print (food_brand + \" has \" + str(dog_foods[food_brand]) + \" bags\")"
   ]
  },
  {
   "cell_type": "markdown",
   "id": "51093863-7046-452d-9686-66e91290d99b",
   "metadata": {},
   "source": [
    "#### Custom Iterators "
   ]
  },
  {
   "cell_type": "markdown",
   "id": "6071e864-56ab-426c-8b02-4a7b5cda53f2",
   "metadata": {},
   "source": [
    "To iterate over a custom class we must implement the iterator protocol by defining the __iter__() and __next__() methods. In most cases the two methods can do the following:\n",
    "\n",
    "- The __iter__() method must always return the iterator object itself. Typically, this is accomplished by returning self. It can also include some class member initializing.\n",
    "\n",
    "- The __next__() method must either return the next value available or raise the StopIteration exception. It can also include any number of operations."
   ]
  },
  {
   "cell_type": "code",
   "execution_count": 7,
   "id": "2463891e-54c2-4ea7-a5f1-a0b6df551579",
   "metadata": {},
   "outputs": [
    {
     "name": "stdout",
     "output_type": "stream",
     "text": [
      "1\n",
      "2\n",
      "3\n",
      "4\n",
      "5\n",
      "6\n",
      "7\n",
      "8\n",
      "9\n",
      "10\n"
     ]
    }
   ],
   "source": [
    "# The reason for initializing the index attribute to 0 in the iter method instead of the init method is because the iter method is called \n",
    "# when the object is being iterated over using a for loop or other iteration methods. The init method is only called when the object is first created.\n",
    "\n",
    "# Returning self in the iter method allows the object itself to be iterable. When a for loop is used on an object, \n",
    "# it calls the iter method on the object, which returns the object itself. This allows the for loop to use the next method to iterate over the object.\n",
    "\n",
    "class CustomerCounter:\n",
    "\n",
    "    def __iter__(self):\n",
    "        self.count = 0\n",
    "        return self\n",
    "\n",
    "    def __next__(self):\n",
    "        if self.count < 10:\n",
    "            self.count += 1\n",
    "            return self.count \n",
    "        else:\n",
    "            raise StopIteration\n",
    "    \n",
    "\n",
    "customer_counter = CustomerCounter()\n",
    "for i in customer_counter:\n",
    "    print(i)"
   ]
  },
  {
   "cell_type": "markdown",
   "id": "77d1204b-db15-440a-ae6c-83b876d2ddcf",
   "metadata": {},
   "source": [
    "#### Python’s Itertools: Built-in Iterators"
   ]
  },
  {
   "cell_type": "markdown",
   "id": "378e325d-44a3-4476-989f-9f0c37e4b567",
   "metadata": {},
   "source": [
    "There are three categories of itertool iterators:\n",
    "\n",
    "- **Infinite**: Infinite iterators will repeat an infinite number of times. They will not raise a StopIteration exception and will require some type of stop condition to exit from.\n",
    "- **Input-Dependent**: Input-dependent iterators are terminated by the input iterable(s) sequence length. This means that the smallest length iterable parameter of an input-dependent iterator will terminate the iterator.\n",
    "- **Combinatoric**: Combinatoric iterators are iterators that are combinational, where mathematical functions are performed on the input iterable(s)."
   ]
  },
  {
   "cell_type": "markdown",
   "id": "53a32fa2-614a-4c26-9f6d-9713642af9e8",
   "metadata": {},
   "source": [
    "#### Infinite Iterator: Count"
   ]
  },
  {
   "cell_type": "markdown",
   "id": "57252590-0241-4bf6-b376-18a38a55bf03",
   "metadata": {},
   "source": [
    "An infinite iterator will repeat an infinite number of times with no endpoint and no StopIteration exception raised. Infinite iterators are useful when we have unbounded streams of data to process.\n",
    "\n",
    "A useful itertool that is an infinite iterator is the count() itertool. This infinite iterator will count from a first value until we provide some type of stop condition. The base syntax of the function looks like this:\n",
    "\n",
    "count(start,[step])\n",
    "\n",
    "The first argument of count() is the value where we start counting from. The second argument is an optional step that will return current value + step. The step value can be positive, negative, and an integer or float number. It will always default to 1 if not provided."
   ]
  },
  {
   "cell_type": "code",
   "execution_count": 1,
   "id": "794d2244-b936-4946-a25a-d13cbf335a29",
   "metadata": {},
   "outputs": [
    {
     "name": "stdout",
     "output_type": "stream",
     "text": [
      "74\n"
     ]
    }
   ],
   "source": [
    "import itertools\n",
    "\n",
    "max_capacity = 1000\n",
    "num_bags = 0\n",
    "\n",
    "for i in itertools.count(start=13.5, step = 13.5):\n",
    "    if i > max_capacity:\n",
    "        break\n",
    "    num_bags += 1\n",
    "\n",
    "print(num_bags)"
   ]
  },
  {
   "cell_type": "markdown",
   "id": "1ea84daa-9580-4560-9ed2-388ba941f84b",
   "metadata": {},
   "source": [
    "#### Input-Dependent Iterator: Chain"
   ]
  },
  {
   "cell_type": "markdown",
   "id": "eed8c6a4-7efa-4e0e-bc0f-aee6f34f26e6",
   "metadata": {},
   "source": [
    "An input-dependent iterator will terminate based on the length of one or more input values. They are great for working with and modifying existing iterators.\n",
    "A useful itertool that is an input-dependent iterator is the chain() itertool. chain() takes in one or more iterables and combine them into a single iterator. Here is what the base syntax looks like:\n",
    "\n",
    "chain(*iterables)\n",
    "\n",
    "The input value of chain() is one or more iterables of the same or varying iterable types. For example, we could use the chain() itertool to combine a list and a set into one iterator."
   ]
  },
  {
   "cell_type": "code",
   "execution_count": 2,
   "id": "b1c40a36-ad7e-4848-82a1-b3748c46a3bc",
   "metadata": {},
   "outputs": [
    {
     "name": "stdout",
     "output_type": "stream",
     "text": [
      "5\n",
      "7\n",
      "9\n",
      "8\n",
      "10\n",
      "6\n"
     ]
    }
   ],
   "source": [
    "import itertools\n",
    " \n",
    "odd = [5, 7, 9]\n",
    "even = {6, 8, 10}\n",
    " \n",
    "all_numbers = itertools.chain(odd, even)\n",
    " \n",
    "for number in all_numbers:\n",
    "    print(number)"
   ]
  },
  {
   "cell_type": "markdown",
   "id": "4904dab3-5c34-4d12-8f18-641485935180",
   "metadata": {},
   "source": [
    "#### Combinatoric Iterator: Combinations"
   ]
  },
  {
   "cell_type": "markdown",
   "id": "fcae81b2-42e2-4491-a943-198e27dcbdb9",
   "metadata": {},
   "source": [
    "A combinatoric iterator will perform a set of statistical or mathematical operations on an input iterable.\n",
    "A useful itertool that is a combinatoric iterator is the combinations() itertool. This itertool will produce an iterator of tuples that contain combinations of all elements in the input.\n",
    "\n",
    "combinations(iterable, r)\n",
    "\n",
    "The combinations() itertool takes in two inputs, the first is an iterable, and the second is a value r that represents the length of each combination tuple.\n",
    "The return type of combinations() is an iterator that can be used in a for loop or can be converted into an iterable type using list() or a set()."
   ]
  },
  {
   "cell_type": "code",
   "execution_count": 3,
   "id": "45276c4f-aeee-4d0f-ba1e-304c250d3f50",
   "metadata": {},
   "outputs": [
    {
     "name": "stdout",
     "output_type": "stream",
     "text": [
      "('Red-S', 'Red-M', 'Blue-XS')\n",
      "('Red-S', 'Red-M', 'Green-L')\n",
      "('Red-S', 'Red-M', 'Green-XL')\n",
      "('Red-S', 'Red-M', 'Yellow-M')\n",
      "('Red-S', 'Blue-XS', 'Green-L')\n",
      "('Red-S', 'Blue-XS', 'Green-XL')\n",
      "('Red-S', 'Blue-XS', 'Yellow-M')\n",
      "('Red-S', 'Green-L', 'Green-XL')\n",
      "('Red-S', 'Green-L', 'Yellow-M')\n",
      "('Red-S', 'Green-XL', 'Yellow-M')\n",
      "('Red-M', 'Blue-XS', 'Green-L')\n",
      "('Red-M', 'Blue-XS', 'Green-XL')\n",
      "('Red-M', 'Blue-XS', 'Yellow-M')\n",
      "('Red-M', 'Green-L', 'Green-XL')\n",
      "('Red-M', 'Green-L', 'Yellow-M')\n",
      "('Red-M', 'Green-XL', 'Yellow-M')\n",
      "('Blue-XS', 'Green-L', 'Green-XL')\n",
      "('Blue-XS', 'Green-L', 'Yellow-M')\n",
      "('Blue-XS', 'Green-XL', 'Yellow-M')\n",
      "('Green-L', 'Green-XL', 'Yellow-M')\n"
     ]
    }
   ],
   "source": [
    "import itertools\n",
    "\n",
    "collars = [\"Red-S\",\"Red-M\", \"Blue-XS\", \"Green-L\", \"Green-XL\", \"Yellow-M\"]\n",
    "\n",
    "collar_combo_iterator = itertools.combinations(collars, 3)\n",
    "\n",
    "for i in collar_combo_iterator:\n",
    "    print(i)"
   ]
  },
  {
   "cell_type": "markdown",
   "id": "a873b91e-9f17-429c-8b01-124cff9fd7eb",
   "metadata": {},
   "source": [
    "#### Review"
   ]
  },
  {
   "cell_type": "code",
   "execution_count": 5,
   "id": "5b023146-7e5f-423b-8285-9b00f27f8bfd",
   "metadata": {},
   "outputs": [
    {
     "name": "stdout",
     "output_type": "stream",
     "text": [
      "('laser', 1.99)\n",
      "('fountain', 5.99)\n",
      "('scratcher', 10.99)\n",
      "('catnip', 15.99)\n",
      "[(('laser', 1.99), ('fountain', 5.99)), (('laser', 1.99), ('scratcher', 10.99))]\n"
     ]
    }
   ],
   "source": [
    "import itertools \n",
    "\n",
    "max_money = 15\n",
    "options = []\n",
    "\n",
    "cat_toys = [('laser', 1.99), ('fountain', 5.99), ('scratcher', 10.99), ('catnip', 15.99)]\n",
    "\n",
    "cat_toy_iterator = iter(cat_toys)\n",
    "\n",
    "print(next(cat_toy_iterator))\n",
    "print(next(cat_toy_iterator))\n",
    "print(next(cat_toy_iterator))\n",
    "print(next(cat_toy_iterator))\n",
    "\n",
    "toy_combos = itertools.combinations(cat_toys , 2)\n",
    "\n",
    "for combo in toy_combos:\n",
    "    toy1 = combo[0]\n",
    "    cost_of_toy1 = toy1[1]\n",
    "    toy2 = combo[1]\n",
    "    cost_of_toy2 = toy2[1]\n",
    "    if cost_of_toy1 + cost_of_toy2 <= max_money:\n",
    "        options.append(combo)\n",
    "\n",
    "print(options)"
   ]
  },
  {
   "cell_type": "code",
   "execution_count": null,
   "id": "8b1285d9-77df-4423-add7-9d8cc58d6214",
   "metadata": {},
   "outputs": [],
   "source": []
  }
 ],
 "metadata": {
  "kernelspec": {
   "display_name": "Python 3 (ipykernel)",
   "language": "python",
   "name": "python3"
  },
  "language_info": {
   "codemirror_mode": {
    "name": "ipython",
    "version": 3
   },
   "file_extension": ".py",
   "mimetype": "text/x-python",
   "name": "python",
   "nbconvert_exporter": "python",
   "pygments_lexer": "ipython3",
   "version": "3.9.13"
  }
 },
 "nbformat": 4,
 "nbformat_minor": 5
}
